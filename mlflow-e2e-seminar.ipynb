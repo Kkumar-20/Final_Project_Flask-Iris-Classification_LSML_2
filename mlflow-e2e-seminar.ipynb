{
 "cells": [
  {
   "cell_type": "markdown",
   "metadata": {
    "colab_type": "text",
    "id": "QP38QZmetiOF"
   },
   "source": [
    "## MLflow architecture\n",
    "\n",
    "### MLflow Components and Their Tasks\n",
    "\n",
    " - MLflow Project - creating an environment for experiments, grouping experiments.\n",
    " - MLflow Tracking - fixing parameters and quality metrics of experiments.\n",
    " - MLflow Models - preparing a version of the model for distribution.\n",
    " - MLflow Registry - centralized repository of models and layout in operation.\n",
    "\n",
    "#### MLflow Projects\n",
    "\n",
    "- Setting up the environment:\n",
    "- programming languages\n",
    "- package manager (e.g. conda)\n",
    "- dependency (xgboost libraries, scikit-learn, ...)\n",
    "\n",
    "- Description of the environment (Infrastructure as code):\n",
    "- various OS\n",
    "- local environment\n",
    "- cloud services\n",
    "\n",
    "#### MLflow Tracking\n",
    "\n",
    "Fixes everything related to the launch of the model:\n",
    " - Datasets (for training and testing)\n",
    " - Sets of parameters (e.g. number of trees, layers, L1 / L2)\n",
    " - Values of quality metrics\n",
    " - Speed of work and other technical metrics.\n",
    "\n",
    "#### MLflow Models\n",
    "\n",
    "Serializes model artifacts as needed additional development\n",
    "\n",
    "#### MLflow Registry\n",
    "\n",
    " - Centralized storage of model versions for easy search.\n",
    " - Information about which model is used on which environment\n",
    " - History of all versions and their use in environments"
   ]
  },
  {
   "cell_type": "markdown",
   "metadata": {
    "colab_type": "text",
    "id": "BEePQncutiOG"
   },
   "source": [
    "## 1. Working with a project and running an experiment\n",
    "\n",
    "A project is a folder with files associated with this project:\n",
    "  - File with MLProject metadata (YAML format) and also include files (for example, conda.yaml)\n",
    "  - Files with code for running experiments (for example, in Python)\n",
    "\n",
    "To create a project, it is enough to describe the correct MLProject file."
   ]
  },
  {
   "cell_type": "markdown",
   "metadata": {
    "colab_type": "text",
    "id": "dNTCeR9mtiOG"
   },
   "source": [
    "### Example of creating a project\n",
    "\n",
    "The `MLproject` project file specifies that the model is trained in the` conda` environment, and is used by `scikit-learn` as the ML library (specified in` conda.yaml`). The training of the model itself is described in the file `train.py`, the necessary data preparation is also described there."
   ]
  },
  {
   "cell_type": "code",
   "execution_count": 1,
   "metadata": {
    "colab": {},
    "colab_type": "code",
    "id": "sG2RbzP8tiOH"
   },
   "outputs": [
    {
     "name": "stdout",
     "output_type": "stream",
     "text": [
      "Overwriting MLproject\n"
     ]
    }
   ],
   "source": [
    "%%writefile MLproject\n",
    "name: tutorial\n",
    "\n",
    "conda_env: conda.yaml\n",
    "\n",
    "entry_points:\n",
    "  main:\n",
    "    parameters:\n",
    "      alpha: float\n",
    "      l1_ratio: {type: float, default: 0.1}\n",
    "    command: \"python train.py {alpha} {l1_ratio}\""
   ]
  },
  {
   "cell_type": "code",
   "execution_count": 2,
   "metadata": {
    "colab": {},
    "colab_type": "code",
    "id": "pLbCF8xMtiOL"
   },
   "outputs": [
    {
     "name": "stdout",
     "output_type": "stream",
     "text": [
      "Overwriting conda.yaml\n"
     ]
    }
   ],
   "source": [
    "%%writefile conda.yaml\n",
    "name: tutorial\n",
    "channels:\n",
    "  - defaults\n",
    "dependencies:\n",
    "  - numpy>=1.14.3\n",
    "  - pandas>=1.0.0\n",
    "  - scikit-learn=0.19.1\n",
    "  - pip\n",
    "  - pip:\n",
    "    - mlflow"
   ]
  },
  {
   "cell_type": "markdown",
   "metadata": {
    "colab_type": "text",
    "id": "ShvNNVefzZMy"
   },
   "source": [
    "We are going to use [Wine Quality](https://github.com/mlflow/mlflow-example)"
   ]
  },
  {
   "cell_type": "markdown",
   "metadata": {
    "colab_type": "text",
    "id": "u9sT2UELtiOO"
   },
   "source": [
    "#### Preparing data for the experiment\n",
    "\n",
    "The following code imports the modules necessary for work, loads the data from the `wine-quality.csv` file and splits them into test and validation selections"
   ]
  },
  {
   "cell_type": "code",
   "execution_count": 3,
   "metadata": {
    "colab": {},
    "colab_type": "code",
    "id": "71EbeHxctiOO"
   },
   "outputs": [],
   "source": [
    "import os\n",
    "import sys\n",
    "import warnings\n",
    "from pprint import pprint\n",
    "\n",
    "import pandas as pd\n",
    "import numpy as np\n",
    "from sklearn.metrics import mean_squared_error, mean_absolute_error, r2_score\n",
    "from sklearn.model_selection import train_test_split\n",
    "from sklearn.linear_model import ElasticNet\n",
    "\n",
    "import mlflow\n",
    "import mlflow.sklearn\n",
    "\n",
    "MLFLOW_SERVER_URL = 'http://127.0.0.1:5000/'\n",
    "\n",
    "warnings.filterwarnings(\"ignore\")\n",
    "np.random.seed(40)\n",
    "data = pd.read_csv(\"mlflow-example/wine-quality.csv\")\n",
    "\n",
    "train, test = train_test_split(data)\n",
    "\n",
    "train_x = train.drop([\"quality\"], axis=1)\n",
    "test_x = test.drop([\"quality\"], axis=1)\n",
    "train_y = train[[\"quality\"]]\n",
    "test_y = test[[\"quality\"]]"
   ]
  },
  {
   "cell_type": "markdown",
   "metadata": {
    "colab_type": "text",
    "id": "bYpEklGEtiON"
   },
   "source": [
    "### Create and run an experiment\n",
    "\n",
    "The experiment code itself does not depend on MLflow, you can use the ready-made code.\n",
    "\n",
    "To fix the launch parameters and metrics of the model, you need to start training within the experiment and project.\n",
    "\n",
    "`tracking_url` - the address of the raised` mlflow` server, which will be used to store experiments. The web interface is also available at this address for viewing the launch results."
   ]
  },
  {
   "cell_type": "markdown",
   "metadata": {
    "colab_type": "text",
    "id": "wI_qE7zNtiOR"
   },
   "source": [
    "#### Running the experiment\n",
    "\n",
    "To run the experiment, you need to execute the model creation code inside the MLflow launch context and store the parameters and resulting metrics in this context."
   ]
  },
  {
   "cell_type": "code",
   "execution_count": 4,
   "metadata": {
    "colab": {},
    "colab_type": "code",
    "id": "drfGPepntiOR"
   },
   "outputs": [
    {
     "name": "stdout",
     "output_type": "stream",
     "text": [
      "INFO: 'experiment2' does not exist. Creating a new experiment\n",
      "Elasticnet model (alpha=0.500000, l1_ratio=0.500000):\n",
      "  RMSE: 0.82224284976\n",
      "  MAE: 0.627876141016\n",
      "  R2: 0.126787219728\n"
     ]
    }
   ],
   "source": [
    "# connect to the server\n",
    "mlflow.set_tracking_uri(MLFLOW_SERVER_URL)\n",
    "\n",
    "experiment_name = 'experiment2'\n",
    "mlflow.set_experiment(experiment_name)\n",
    "\n",
    "# run the experiment\n",
    "with mlflow.start_run():\n",
    "    alpha = 0.5\n",
    "    l1_ratio = 0.5\n",
    "\n",
    "    # model\n",
    "    lr = ElasticNet(alpha=alpha, l1_ratio=l1_ratio, random_state=42)\n",
    "    lr.fit(train_x, train_y)\n",
    "\n",
    "    # metrics\n",
    "    predicted_qualities = lr.predict(test_x)\n",
    "    rmse = np.sqrt(mean_squared_error(test_y, predicted_qualities))\n",
    "    mae = mean_absolute_error(test_y, predicted_qualities)\n",
    "    r2 = r2_score(test_y, predicted_qualities)\n",
    "\n",
    "    print(\"Elasticnet model (alpha=%f, l1_ratio=%f):\" % (alpha, l1_ratio))\n",
    "    print(\"  RMSE: %s\" % rmse)\n",
    "    print(\"  MAE: %s\" % mae)\n",
    "    print(\"  R2: %s\" % r2)\n",
    "\n",
    "    # save the metric values for the experiment\n",
    "    mlflow.log_param(\"alpha\", alpha)\n",
    "    mlflow.log_param(\"l1_ratio\", l1_ratio)\n",
    "    mlflow.log_metric(\"rmse\", rmse)\n",
    "    mlflow.log_metric(\"r2\", r2)\n",
    "    mlflow.log_metric(\"mae\", mae)\n",
    "\n",
    "    mlflow.sklearn.log_model(lr, \"model\")"
   ]
  },
  {
   "cell_type": "markdown",
   "metadata": {
    "colab_type": "text",
    "id": "sIYTUGvStiOU"
   },
   "source": [
    "## 2. Preparing the model for distribution\n",
    "\n",
    "The launch of a successful experiment can be prepared for commissioning.\n",
    "\n",
    "For this, the `MLflow Model Registry` is used."
   ]
  },
  {
   "cell_type": "markdown",
   "metadata": {
    "colab_type": "text",
    "id": "50MQhVLYtiOU"
   },
   "source": [
    "### Review the conducted experiments and select the candidate for deployment\n",
    "\n",
    "To get information about running experiments, you need to create a client `mlflow.tracking.MlflowClient`, then select the experiment you want and select the desired experiment start.\n",
    "\n",
    "The code below takes the last run of the experiment from the list of all runs."
   ]
  },
  {
   "cell_type": "code",
   "execution_count": 5,
   "metadata": {
    "colab": {},
    "colab_type": "code",
    "id": "w8dYq2YjtiOV"
   },
   "outputs": [
    {
     "name": "stdout",
     "output_type": "stream",
     "text": [
      "<Experiment: artifact_location='./mlruns/1', experiment_id='1', lifecycle_stage='active', name='experiment2', tags={}>\n",
      "<RunInfo: artifact_uri='./mlruns/1/0673d5e01497435ba313bd561c7f57ca/artifacts', end_time=1651779139325, experiment_id='1', lifecycle_stage='active', run_id='0673d5e01497435ba313bd561c7f57ca', run_uuid='0673d5e01497435ba313bd561c7f57ca', start_time=1651779137192, status='FINISHED', user_id='jovyan'>\n"
     ]
    }
   ],
   "source": [
    "client = mlflow.tracking.MlflowClient(MLFLOW_SERVER_URL)\n",
    "experiment = client.get_experiment_by_name(experiment_name)\n",
    "run_info = client.list_run_infos(experiment.experiment_id)[-1]\n",
    "\n",
    "print(experiment)\n",
    "print(run_info)"
   ]
  },
  {
   "cell_type": "markdown",
   "metadata": {
    "colab_type": "text",
    "id": "fZvbsRvmtiOY"
   },
   "source": [
    "### Registering a Model in the MLflow Model Registry\n",
    "\n",
    "Model registration is also available in the web interface. To do this, select a model on the experiments page and click `Register Model`.\n",
    "\n",
    "Below is a code that performs a similar action."
   ]
  },
  {
   "cell_type": "code",
   "execution_count": 6,
   "metadata": {
    "colab": {},
    "colab_type": "code",
    "id": "W0_CPO7-tiOZ"
   },
   "outputs": [
    {
     "name": "stderr",
     "output_type": "stream",
     "text": [
      "2022/05/05 19:32:24 INFO mlflow.tracking._model_registry.client: Waiting up to 300 seconds for model version to finish creation.                     Model name: sk-learn-new-model, version 1\n"
     ]
    },
    {
     "name": "stdout",
     "output_type": "stream",
     "text": [
      "<ModelVersion: creation_timestamp=1651779144455, current_stage='None', description='', last_updated_timestamp=1651779144455, name='sk-learn-new-model', run_id='0673d5e01497435ba313bd561c7f57ca', run_link='', source='./mlruns/1/0673d5e01497435ba313bd561c7f57ca/artifacts/model', status='READY', status_message='', tags={}, user_id='', version='1'>\n"
     ]
    }
   ],
   "source": [
    "reg_model_name = \"sk-learn-new-model\"\n",
    "\n",
    "# register model\n",
    "client.create_registered_model(reg_model_name)\n",
    "# create a new version\n",
    "result = client.create_model_version(\n",
    "    name=reg_model_name,\n",
    "    source=f\"{run_info.artifact_uri}/model\",\n",
    "    run_id=run_info.run_id\n",
    ")\n",
    "\n",
    "print(result)"
   ]
  },
  {
   "cell_type": "markdown",
   "metadata": {
    "colab_type": "text",
    "id": "uxjSecYuvS10"
   },
   "source": [
    "View the list of registered models as follows:"
   ]
  },
  {
   "cell_type": "code",
   "execution_count": 7,
   "metadata": {
    "colab": {},
    "colab_type": "code",
    "id": "jwFxns_NvPdZ"
   },
   "outputs": [
    {
     "name": "stdout",
     "output_type": "stream",
     "text": [
      "{   'creation_timestamp': 1651779144446,\n",
      "    'description': '',\n",
      "    'last_updated_timestamp': 1651779144455,\n",
      "    'latest_versions': [   <ModelVersion: creation_timestamp=1651779144455, current_stage='None', description='', last_updated_timestamp=1651779144455, name='sk-learn-new-model', run_id='0673d5e01497435ba313bd561c7f57ca', run_link='', source='./mlruns/1/0673d5e01497435ba313bd561c7f57ca/artifacts/model', status='READY', status_message='', tags={}, user_id='', version='1'>],\n",
      "    'name': 'sk-learn-new-model',\n",
      "    'tags': {}}\n"
     ]
    }
   ],
   "source": [
    "for rm in client.list_registered_models():\n",
    "    pprint(dict(rm), indent=4)"
   ]
  },
  {
   "cell_type": "markdown",
   "metadata": {
    "colab_type": "text",
    "id": "TniouHOOvhs9"
   },
   "source": [
    "You can find the model and version you need using a special function:"
   ]
  },
  {
   "cell_type": "code",
   "execution_count": 8,
   "metadata": {
    "colab": {},
    "colab_type": "code",
    "id": "z18vS9jJvg7d"
   },
   "outputs": [
    {
     "name": "stdout",
     "output_type": "stream",
     "text": [
      "{   'creation_timestamp': 1651779144455,\n",
      "    'current_stage': 'None',\n",
      "    'description': '',\n",
      "    'last_updated_timestamp': 1651779144455,\n",
      "    'name': 'sk-learn-new-model',\n",
      "    'run_id': '0673d5e01497435ba313bd561c7f57ca',\n",
      "    'run_link': '',\n",
      "    'source': './mlruns/1/0673d5e01497435ba313bd561c7f57ca/artifacts/model',\n",
      "    'status': 'READY',\n",
      "    'status_message': '',\n",
      "    'tags': {},\n",
      "    'user_id': '',\n",
      "    'version': '1'}\n"
     ]
    }
   ],
   "source": [
    "for mv in client.search_model_versions(f\"name='{reg_model_name}'\"):\n",
    "    pprint(dict(mv), indent=4)"
   ]
  },
  {
   "cell_type": "markdown",
   "metadata": {
    "colab_type": "text",
    "id": "I2EsnX4etiOc"
   },
   "source": [
    "## 3. Deployment of the model and testing the server\n",
    "\n",
    "To use the model in a specific environment, you need to transfer the register the model to the desired environment. This operation only registers the model in the desired environment, does not start the web server.\n",
    "\n",
    "### Deployment of the model in test and production environments\n",
    "\n",
    "Terminology used in MLflow Model Registry:\n",
    "\n",
    "  - Staging - test environment\n",
    "  - Production - operational environment\n",
    " \n",
    "The following code translates the previously registered version `1` into the` Staging` environment."
   ]
  },
  {
   "cell_type": "code",
   "execution_count": 10,
   "metadata": {
    "colab": {},
    "colab_type": "code",
    "id": "uSKSKPpwtiOc"
   },
   "outputs": [
    {
     "data": {
      "text/plain": [
       "<ModelVersion: creation_timestamp=1651779144455, current_stage='Staging', description='', last_updated_timestamp=1651779177176, name='sk-learn-new-model', run_id='0673d5e01497435ba313bd561c7f57ca', run_link='', source='./mlruns/1/0673d5e01497435ba313bd561c7f57ca/artifacts/model', status='READY', status_message='', tags={}, user_id='', version='1'>"
      ]
     },
     "execution_count": 10,
     "metadata": {},
     "output_type": "execute_result"
    }
   ],
   "source": [
    "client.transition_model_version_stage(\n",
    "    name=reg_model_name,\n",
    "    version=1,\n",
    "    stage=\"Staging\"\n",
    ")"
   ]
  },
  {
   "cell_type": "markdown",
   "metadata": {
    "colab_type": "text",
    "id": "sRPuKGdH2z_w"
   },
   "source": [
    "Check the result with the following code:"
   ]
  },
  {
   "cell_type": "code",
   "execution_count": 11,
   "metadata": {
    "colab": {},
    "colab_type": "code",
    "id": "TZdlt7BC23a5"
   },
   "outputs": [
    {
     "name": "stdout",
     "output_type": "stream",
     "text": [
      "{   'creation_timestamp': 1651779144455,\n",
      "    'current_stage': 'Staging',\n",
      "    'description': '',\n",
      "    'last_updated_timestamp': 1651779177176,\n",
      "    'name': 'sk-learn-new-model',\n",
      "    'run_id': '0673d5e01497435ba313bd561c7f57ca',\n",
      "    'run_link': '',\n",
      "    'source': './mlruns/1/0673d5e01497435ba313bd561c7f57ca/artifacts/model',\n",
      "    'status': 'READY',\n",
      "    'status_message': '',\n",
      "    'tags': {},\n",
      "    'user_id': '',\n",
      "    'version': '1'}\n"
     ]
    }
   ],
   "source": [
    "for mv in client.search_model_versions(f\"name='{reg_model_name}'\"):\n",
    "    pprint(dict(mv), indent=4)"
   ]
  },
  {
   "cell_type": "markdown",
   "metadata": {
    "colab_type": "text",
    "id": "1sHABAzotiOf"
   },
   "source": [
    "To use the model, you need to start a web server, pass it the name of the model and environment, as well as the port (in the example, it runs on port 5005) as parameters.\n",
    "\n",
    "To communicate with the web server, you must send requests to the `/invocations` entry point of that web server."
   ]
  },
  {
   "cell_type": "code",
   "execution_count": 12,
   "metadata": {
    "colab": {},
    "colab_type": "code",
    "id": "uBCKeROStiOg"
   },
   "outputs": [
    {
     "data": {
      "text/plain": [
       "0"
      ]
     },
     "execution_count": 12,
     "metadata": {},
     "output_type": "execute_result"
    }
   ],
   "source": [
    "os.system('MLFLOW_TRACKING_URI=http://127.0.0.1:5000/ mlflow models serve -m \"models:/sk-learn-new-model/Staging\" -p 5005 --no-conda &')"
   ]
  },
  {
   "cell_type": "code",
   "execution_count": 14,
   "metadata": {
    "colab": {},
    "colab_type": "code",
    "id": "-Y6gZTi2tiOi"
   },
   "outputs": [
    {
     "name": "stdout",
     "output_type": "stream",
     "text": [
      "Predictions: [5.88527611335971, 5.740523335804658, 5.811935039818762, 5.957850132893952, 6.092739574397946, 5.381768818172121, 6.050858460676247, 5.992469597297116, 5.850426199303677, 5.627508796953737]\n"
     ]
    }
   ],
   "source": [
    "import requests\n",
    "\n",
    "url = f'http://127.0.0.1:5005/invocations'\n",
    "\n",
    "http_data = test_x[:10].to_json(orient='split')\n",
    "response = requests.post(url=url, headers={'Content-Type': 'application/json'}, data=http_data)\n",
    "\n",
    "print(f'Predictions: {response.text}')"
   ]
  },
  {
   "cell_type": "code",
   "execution_count": null,
   "metadata": {},
   "outputs": [],
   "source": []
  }
 ],
 "metadata": {
  "colab": {
   "collapsed_sections": [],
   "name": "mlflow-e2e.ipynb",
   "provenance": []
  },
  "kernelspec": {
   "display_name": "Python 3",
   "language": "python",
   "name": "python3"
  },
  "language_info": {
   "codemirror_mode": {
    "name": "ipython",
    "version": 3
   },
   "file_extension": ".py",
   "mimetype": "text/x-python",
   "name": "python",
   "nbconvert_exporter": "python",
   "pygments_lexer": "ipython3",
   "version": "3.8.8"
  },
  "toc": {
   "base_numbering": 1,
   "nav_menu": {},
   "number_sections": true,
   "sideBar": true,
   "skip_h1_title": false,
   "title_cell": "Table of Contents",
   "title_sidebar": "Contents",
   "toc_cell": false,
   "toc_position": {},
   "toc_section_display": true,
   "toc_window_display": false
  }
 },
 "nbformat": 4,
 "nbformat_minor": 1
}
