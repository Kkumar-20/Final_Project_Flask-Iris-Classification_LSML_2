{
  "cells": [
    {
      "cell_type": "markdown",
      "metadata": {
        "_cell_guid": "b7dbedec-9483-4b22-484d-b8a8e04c49ae",
        "_uuid": "8807ae46aec34ec427b81344d64a3c0d607b258a",
        "id": "NHEb1KfpCYIJ"
      },
      "source": [
        "# Data Set Description\n",
        "\n",
        "1. Predicted attribute: class of iris plant.\n",
        "2. This is an exceedingly simple domain.\n",
        "3. Number of Instances: 150 (50 in each of three classes)\n",
        "\n",
        "4. Number of Attributes: 4 numeric, predictive attributes and the class\n",
        "\n",
        "5. Attribute Information:\n",
        "   1. sepal length in cm\n",
        "   2. sepal width in cm\n",
        "   3. petal length in cm\n",
        "   4. petal width in cm\n",
        "   5. class: \n",
        "      -- Iris Setosa\n",
        "      -- Iris Versicolour\n",
        "      -- Iris Virginica\n",
        "\n",
        "6. Missing Attribute Values: None\n",
        "\n",
        "7. Summary Statistics:\n",
        "\t         Min  Max   Mean    SD   Class Correlation\n",
        "  - sepal length: 4.3  7.9   5.84  0.83    0.7826   \n",
        "  - sepal width: 2.0  4.4   3.05  0.43   -0.4194\n",
        "  - petal length: 1.0  6.9   3.76  1.76    0.9490  (high!)\n",
        "  - petal width: 0.1  2.5   1.20  0.76    0.9565  (high!)\n",
        "\n",
        "8. Class Distribution: 33.3% for each of 3 classes.\n",
        "\n",
        "\n",
        "\n"
      ]
    },
    {
      "cell_type": "code",
      "execution_count": 10,
      "metadata": {
        "_cell_guid": "c8b7047a-c84c-c0ee-054d-a0c30609cc43",
        "_execution_state": "idle",
        "_uuid": "43047631b7881a23c63a655f5214b2ebaff946fa",
        "id": "1VSm_VoZCYIO"
      },
      "outputs": [],
      "source": [
        "import numpy as np # linear algebra\n",
        "import pandas as pd # data processing, CSV file I/O (e.g. pd.read_csv)\n",
        "import seaborn as sns\n",
        "import matplotlib.pyplot as plt"
      ]
    },
    {
      "cell_type": "code",
      "execution_count": 11,
      "metadata": {
        "_cell_guid": "ced2723b-e83e-6aa0-4ffb-9ace2cc4a5e3",
        "_execution_state": "idle",
        "_uuid": "db8aed63638fcf4833c050541cc0fe5a0b756670",
        "collapsed": true,
        "id": "gJrG61NVCYIQ"
      },
      "outputs": [],
      "source": [
        "iris = pd.read_csv(\"iris.csv\") #load the dataset"
      ]
    },
    {
      "cell_type": "code",
      "execution_count": 7,
      "metadata": {
        "_cell_guid": "ca50ed92-15c7-f9f6-b371-f18393505167",
        "_execution_state": "idle",
        "_uuid": "9a89db0e5a9d3e5cd7cecf06e16dbf1b6f8d3542",
        "colab": {
          "base_uri": "https://localhost:8080/",
          "height": 112
        },
        "id": "kSvoNWJGCYIR",
        "outputId": "6ac25428-3428-44c1-aa02-20bd18b9ac51"
      },
      "outputs": [
        {
          "output_type": "execute_result",
          "data": {
            "text/plain": [
              "   sepal.length  sepal.width  petal.length  petal.width variety\n",
              "0           5.1          3.5           1.4          0.2  Setosa\n",
              "1           4.9          3.0           1.4          0.2  Setosa"
            ],
            "text/html": [
              "\n",
              "  <div id=\"df-b9f62105-7f16-4f97-9377-eea77680c4a2\">\n",
              "    <div class=\"colab-df-container\">\n",
              "      <div>\n",
              "<style scoped>\n",
              "    .dataframe tbody tr th:only-of-type {\n",
              "        vertical-align: middle;\n",
              "    }\n",
              "\n",
              "    .dataframe tbody tr th {\n",
              "        vertical-align: top;\n",
              "    }\n",
              "\n",
              "    .dataframe thead th {\n",
              "        text-align: right;\n",
              "    }\n",
              "</style>\n",
              "<table border=\"1\" class=\"dataframe\">\n",
              "  <thead>\n",
              "    <tr style=\"text-align: right;\">\n",
              "      <th></th>\n",
              "      <th>sepal.length</th>\n",
              "      <th>sepal.width</th>\n",
              "      <th>petal.length</th>\n",
              "      <th>petal.width</th>\n",
              "      <th>variety</th>\n",
              "    </tr>\n",
              "  </thead>\n",
              "  <tbody>\n",
              "    <tr>\n",
              "      <th>0</th>\n",
              "      <td>5.1</td>\n",
              "      <td>3.5</td>\n",
              "      <td>1.4</td>\n",
              "      <td>0.2</td>\n",
              "      <td>Setosa</td>\n",
              "    </tr>\n",
              "    <tr>\n",
              "      <th>1</th>\n",
              "      <td>4.9</td>\n",
              "      <td>3.0</td>\n",
              "      <td>1.4</td>\n",
              "      <td>0.2</td>\n",
              "      <td>Setosa</td>\n",
              "    </tr>\n",
              "  </tbody>\n",
              "</table>\n",
              "</div>\n",
              "      <button class=\"colab-df-convert\" onclick=\"convertToInteractive('df-b9f62105-7f16-4f97-9377-eea77680c4a2')\"\n",
              "              title=\"Convert this dataframe to an interactive table.\"\n",
              "              style=\"display:none;\">\n",
              "        \n",
              "  <svg xmlns=\"http://www.w3.org/2000/svg\" height=\"24px\"viewBox=\"0 0 24 24\"\n",
              "       width=\"24px\">\n",
              "    <path d=\"M0 0h24v24H0V0z\" fill=\"none\"/>\n",
              "    <path d=\"M18.56 5.44l.94 2.06.94-2.06 2.06-.94-2.06-.94-.94-2.06-.94 2.06-2.06.94zm-11 1L8.5 8.5l.94-2.06 2.06-.94-2.06-.94L8.5 2.5l-.94 2.06-2.06.94zm10 10l.94 2.06.94-2.06 2.06-.94-2.06-.94-.94-2.06-.94 2.06-2.06.94z\"/><path d=\"M17.41 7.96l-1.37-1.37c-.4-.4-.92-.59-1.43-.59-.52 0-1.04.2-1.43.59L10.3 9.45l-7.72 7.72c-.78.78-.78 2.05 0 2.83L4 21.41c.39.39.9.59 1.41.59.51 0 1.02-.2 1.41-.59l7.78-7.78 2.81-2.81c.8-.78.8-2.07 0-2.86zM5.41 20L4 18.59l7.72-7.72 1.47 1.35L5.41 20z\"/>\n",
              "  </svg>\n",
              "      </button>\n",
              "      \n",
              "  <style>\n",
              "    .colab-df-container {\n",
              "      display:flex;\n",
              "      flex-wrap:wrap;\n",
              "      gap: 12px;\n",
              "    }\n",
              "\n",
              "    .colab-df-convert {\n",
              "      background-color: #E8F0FE;\n",
              "      border: none;\n",
              "      border-radius: 50%;\n",
              "      cursor: pointer;\n",
              "      display: none;\n",
              "      fill: #1967D2;\n",
              "      height: 32px;\n",
              "      padding: 0 0 0 0;\n",
              "      width: 32px;\n",
              "    }\n",
              "\n",
              "    .colab-df-convert:hover {\n",
              "      background-color: #E2EBFA;\n",
              "      box-shadow: 0px 1px 2px rgba(60, 64, 67, 0.3), 0px 1px 3px 1px rgba(60, 64, 67, 0.15);\n",
              "      fill: #174EA6;\n",
              "    }\n",
              "\n",
              "    [theme=dark] .colab-df-convert {\n",
              "      background-color: #3B4455;\n",
              "      fill: #D2E3FC;\n",
              "    }\n",
              "\n",
              "    [theme=dark] .colab-df-convert:hover {\n",
              "      background-color: #434B5C;\n",
              "      box-shadow: 0px 1px 3px 1px rgba(0, 0, 0, 0.15);\n",
              "      filter: drop-shadow(0px 1px 2px rgba(0, 0, 0, 0.3));\n",
              "      fill: #FFFFFF;\n",
              "    }\n",
              "  </style>\n",
              "\n",
              "      <script>\n",
              "        const buttonEl =\n",
              "          document.querySelector('#df-b9f62105-7f16-4f97-9377-eea77680c4a2 button.colab-df-convert');\n",
              "        buttonEl.style.display =\n",
              "          google.colab.kernel.accessAllowed ? 'block' : 'none';\n",
              "\n",
              "        async function convertToInteractive(key) {\n",
              "          const element = document.querySelector('#df-b9f62105-7f16-4f97-9377-eea77680c4a2');\n",
              "          const dataTable =\n",
              "            await google.colab.kernel.invokeFunction('convertToInteractive',\n",
              "                                                     [key], {});\n",
              "          if (!dataTable) return;\n",
              "\n",
              "          const docLinkHtml = 'Like what you see? Visit the ' +\n",
              "            '<a target=\"_blank\" href=https://colab.research.google.com/notebooks/data_table.ipynb>data table notebook</a>'\n",
              "            + ' to learn more about interactive tables.';\n",
              "          element.innerHTML = '';\n",
              "          dataTable['output_type'] = 'display_data';\n",
              "          await google.colab.output.renderOutput(dataTable, element);\n",
              "          const docLink = document.createElement('div');\n",
              "          docLink.innerHTML = docLinkHtml;\n",
              "          element.appendChild(docLink);\n",
              "        }\n",
              "      </script>\n",
              "    </div>\n",
              "  </div>\n",
              "  "
            ]
          },
          "metadata": {},
          "execution_count": 7
        }
      ],
      "source": [
        "iris.head(2) #show the first 2 rows from the dataset"
      ]
    },
    {
      "cell_type": "code",
      "source": [
        "iris.describe()"
      ],
      "metadata": {
        "colab": {
          "base_uri": "https://localhost:8080/",
          "height": 300
        },
        "id": "SaYNUScWDVF7",
        "outputId": "f62d8c19-152e-46db-a1d5-6e6ec60367d5"
      },
      "execution_count": 9,
      "outputs": [
        {
          "output_type": "execute_result",
          "data": {
            "text/plain": [
              "       sepal.length  sepal.width  petal.length  petal.width\n",
              "count    150.000000   150.000000    150.000000   150.000000\n",
              "mean       5.843333     3.057333      3.758000     1.199333\n",
              "std        0.828066     0.435866      1.765298     0.762238\n",
              "min        4.300000     2.000000      1.000000     0.100000\n",
              "25%        5.100000     2.800000      1.600000     0.300000\n",
              "50%        5.800000     3.000000      4.350000     1.300000\n",
              "75%        6.400000     3.300000      5.100000     1.800000\n",
              "max        7.900000     4.400000      6.900000     2.500000"
            ],
            "text/html": [
              "\n",
              "  <div id=\"df-4deb8a15-b97e-4b68-a4ab-a5f521d8526e\">\n",
              "    <div class=\"colab-df-container\">\n",
              "      <div>\n",
              "<style scoped>\n",
              "    .dataframe tbody tr th:only-of-type {\n",
              "        vertical-align: middle;\n",
              "    }\n",
              "\n",
              "    .dataframe tbody tr th {\n",
              "        vertical-align: top;\n",
              "    }\n",
              "\n",
              "    .dataframe thead th {\n",
              "        text-align: right;\n",
              "    }\n",
              "</style>\n",
              "<table border=\"1\" class=\"dataframe\">\n",
              "  <thead>\n",
              "    <tr style=\"text-align: right;\">\n",
              "      <th></th>\n",
              "      <th>sepal.length</th>\n",
              "      <th>sepal.width</th>\n",
              "      <th>petal.length</th>\n",
              "      <th>petal.width</th>\n",
              "    </tr>\n",
              "  </thead>\n",
              "  <tbody>\n",
              "    <tr>\n",
              "      <th>count</th>\n",
              "      <td>150.000000</td>\n",
              "      <td>150.000000</td>\n",
              "      <td>150.000000</td>\n",
              "      <td>150.000000</td>\n",
              "    </tr>\n",
              "    <tr>\n",
              "      <th>mean</th>\n",
              "      <td>5.843333</td>\n",
              "      <td>3.057333</td>\n",
              "      <td>3.758000</td>\n",
              "      <td>1.199333</td>\n",
              "    </tr>\n",
              "    <tr>\n",
              "      <th>std</th>\n",
              "      <td>0.828066</td>\n",
              "      <td>0.435866</td>\n",
              "      <td>1.765298</td>\n",
              "      <td>0.762238</td>\n",
              "    </tr>\n",
              "    <tr>\n",
              "      <th>min</th>\n",
              "      <td>4.300000</td>\n",
              "      <td>2.000000</td>\n",
              "      <td>1.000000</td>\n",
              "      <td>0.100000</td>\n",
              "    </tr>\n",
              "    <tr>\n",
              "      <th>25%</th>\n",
              "      <td>5.100000</td>\n",
              "      <td>2.800000</td>\n",
              "      <td>1.600000</td>\n",
              "      <td>0.300000</td>\n",
              "    </tr>\n",
              "    <tr>\n",
              "      <th>50%</th>\n",
              "      <td>5.800000</td>\n",
              "      <td>3.000000</td>\n",
              "      <td>4.350000</td>\n",
              "      <td>1.300000</td>\n",
              "    </tr>\n",
              "    <tr>\n",
              "      <th>75%</th>\n",
              "      <td>6.400000</td>\n",
              "      <td>3.300000</td>\n",
              "      <td>5.100000</td>\n",
              "      <td>1.800000</td>\n",
              "    </tr>\n",
              "    <tr>\n",
              "      <th>max</th>\n",
              "      <td>7.900000</td>\n",
              "      <td>4.400000</td>\n",
              "      <td>6.900000</td>\n",
              "      <td>2.500000</td>\n",
              "    </tr>\n",
              "  </tbody>\n",
              "</table>\n",
              "</div>\n",
              "      <button class=\"colab-df-convert\" onclick=\"convertToInteractive('df-4deb8a15-b97e-4b68-a4ab-a5f521d8526e')\"\n",
              "              title=\"Convert this dataframe to an interactive table.\"\n",
              "              style=\"display:none;\">\n",
              "        \n",
              "  <svg xmlns=\"http://www.w3.org/2000/svg\" height=\"24px\"viewBox=\"0 0 24 24\"\n",
              "       width=\"24px\">\n",
              "    <path d=\"M0 0h24v24H0V0z\" fill=\"none\"/>\n",
              "    <path d=\"M18.56 5.44l.94 2.06.94-2.06 2.06-.94-2.06-.94-.94-2.06-.94 2.06-2.06.94zm-11 1L8.5 8.5l.94-2.06 2.06-.94-2.06-.94L8.5 2.5l-.94 2.06-2.06.94zm10 10l.94 2.06.94-2.06 2.06-.94-2.06-.94-.94-2.06-.94 2.06-2.06.94z\"/><path d=\"M17.41 7.96l-1.37-1.37c-.4-.4-.92-.59-1.43-.59-.52 0-1.04.2-1.43.59L10.3 9.45l-7.72 7.72c-.78.78-.78 2.05 0 2.83L4 21.41c.39.39.9.59 1.41.59.51 0 1.02-.2 1.41-.59l7.78-7.78 2.81-2.81c.8-.78.8-2.07 0-2.86zM5.41 20L4 18.59l7.72-7.72 1.47 1.35L5.41 20z\"/>\n",
              "  </svg>\n",
              "      </button>\n",
              "      \n",
              "  <style>\n",
              "    .colab-df-container {\n",
              "      display:flex;\n",
              "      flex-wrap:wrap;\n",
              "      gap: 12px;\n",
              "    }\n",
              "\n",
              "    .colab-df-convert {\n",
              "      background-color: #E8F0FE;\n",
              "      border: none;\n",
              "      border-radius: 50%;\n",
              "      cursor: pointer;\n",
              "      display: none;\n",
              "      fill: #1967D2;\n",
              "      height: 32px;\n",
              "      padding: 0 0 0 0;\n",
              "      width: 32px;\n",
              "    }\n",
              "\n",
              "    .colab-df-convert:hover {\n",
              "      background-color: #E2EBFA;\n",
              "      box-shadow: 0px 1px 2px rgba(60, 64, 67, 0.3), 0px 1px 3px 1px rgba(60, 64, 67, 0.15);\n",
              "      fill: #174EA6;\n",
              "    }\n",
              "\n",
              "    [theme=dark] .colab-df-convert {\n",
              "      background-color: #3B4455;\n",
              "      fill: #D2E3FC;\n",
              "    }\n",
              "\n",
              "    [theme=dark] .colab-df-convert:hover {\n",
              "      background-color: #434B5C;\n",
              "      box-shadow: 0px 1px 3px 1px rgba(0, 0, 0, 0.15);\n",
              "      filter: drop-shadow(0px 1px 2px rgba(0, 0, 0, 0.3));\n",
              "      fill: #FFFFFF;\n",
              "    }\n",
              "  </style>\n",
              "\n",
              "      <script>\n",
              "        const buttonEl =\n",
              "          document.querySelector('#df-4deb8a15-b97e-4b68-a4ab-a5f521d8526e button.colab-df-convert');\n",
              "        buttonEl.style.display =\n",
              "          google.colab.kernel.accessAllowed ? 'block' : 'none';\n",
              "\n",
              "        async function convertToInteractive(key) {\n",
              "          const element = document.querySelector('#df-4deb8a15-b97e-4b68-a4ab-a5f521d8526e');\n",
              "          const dataTable =\n",
              "            await google.colab.kernel.invokeFunction('convertToInteractive',\n",
              "                                                     [key], {});\n",
              "          if (!dataTable) return;\n",
              "\n",
              "          const docLinkHtml = 'Like what you see? Visit the ' +\n",
              "            '<a target=\"_blank\" href=https://colab.research.google.com/notebooks/data_table.ipynb>data table notebook</a>'\n",
              "            + ' to learn more about interactive tables.';\n",
              "          element.innerHTML = '';\n",
              "          dataTable['output_type'] = 'display_data';\n",
              "          await google.colab.output.renderOutput(dataTable, element);\n",
              "          const docLink = document.createElement('div');\n",
              "          docLink.innerHTML = docLinkHtml;\n",
              "          element.appendChild(docLink);\n",
              "        }\n",
              "      </script>\n",
              "    </div>\n",
              "  </div>\n",
              "  "
            ]
          },
          "metadata": {},
          "execution_count": 9
        }
      ]
    },
    {
      "cell_type": "code",
      "execution_count": null,
      "metadata": {
        "_cell_guid": "4f9370f1-0672-0d8c-4f21-c7eeb694042c",
        "_execution_state": "idle",
        "_uuid": "46f49d63be72b4eec75da299e355d6dbaa19f65b",
        "id": "ZZ3T5PfnCYIS",
        "outputId": "7a0db7af-b696-4e5e-8d1a-3e2d81401c6f"
      },
      "outputs": [
        {
          "name": "stdout",
          "output_type": "stream",
          "text": [
            "<class 'pandas.core.frame.DataFrame'>\n",
            "RangeIndex: 150 entries, 0 to 149\n",
            "Data columns (total 6 columns):\n",
            "Id               150 non-null int64\n",
            "SepalLengthCm    150 non-null float64\n",
            "SepalWidthCm     150 non-null float64\n",
            "PetalLengthCm    150 non-null float64\n",
            "PetalWidthCm     150 non-null float64\n",
            "Species          150 non-null object\n",
            "dtypes: float64(4), int64(1), object(1)\n",
            "memory usage: 7.1+ KB\n"
          ]
        }
      ],
      "source": [
        "iris.info()  #checking if there is any inconsistency in the dataset\n",
        "#as we see there are no null values in the dataset, so the data can be processed"
      ]
    },
    {
      "cell_type": "markdown",
      "metadata": {
        "_cell_guid": "a2e19920-d24b-7551-10c4-e1088c8a4324",
        "_uuid": "f00690de3343002575e680a83ae395ef0060fe1f",
        "id": "cknRixEZCYIU"
      },
      "source": [
        "## Some Exploratory Data Analysis With Iris"
      ]
    },
    {
      "cell_type": "code",
      "source": [
        "iris"
      ],
      "metadata": {
        "colab": {
          "base_uri": "https://localhost:8080/",
          "height": 424
        },
        "id": "9_5t7xbRIy_I",
        "outputId": "d25cb6cc-5cba-47eb-c441-cae7e5fd36cc"
      },
      "execution_count": 17,
      "outputs": [
        {
          "output_type": "execute_result",
          "data": {
            "text/plain": [
              "     sepal.length  sepal.width  petal.length  petal.width    variety\n",
              "0             5.1          3.5           1.4          0.2     Setosa\n",
              "1             4.9          3.0           1.4          0.2     Setosa\n",
              "2             4.7          3.2           1.3          0.2     Setosa\n",
              "3             4.6          3.1           1.5          0.2     Setosa\n",
              "4             5.0          3.6           1.4          0.2     Setosa\n",
              "..            ...          ...           ...          ...        ...\n",
              "145           6.7          3.0           5.2          2.3  Virginica\n",
              "146           6.3          2.5           5.0          1.9  Virginica\n",
              "147           6.5          3.0           5.2          2.0  Virginica\n",
              "148           6.2          3.4           5.4          2.3  Virginica\n",
              "149           5.9          3.0           5.1          1.8  Virginica\n",
              "\n",
              "[150 rows x 5 columns]"
            ],
            "text/html": [
              "\n",
              "  <div id=\"df-30c75572-3c0c-400c-af95-fa4ee0cd3fab\">\n",
              "    <div class=\"colab-df-container\">\n",
              "      <div>\n",
              "<style scoped>\n",
              "    .dataframe tbody tr th:only-of-type {\n",
              "        vertical-align: middle;\n",
              "    }\n",
              "\n",
              "    .dataframe tbody tr th {\n",
              "        vertical-align: top;\n",
              "    }\n",
              "\n",
              "    .dataframe thead th {\n",
              "        text-align: right;\n",
              "    }\n",
              "</style>\n",
              "<table border=\"1\" class=\"dataframe\">\n",
              "  <thead>\n",
              "    <tr style=\"text-align: right;\">\n",
              "      <th></th>\n",
              "      <th>sepal.length</th>\n",
              "      <th>sepal.width</th>\n",
              "      <th>petal.length</th>\n",
              "      <th>petal.width</th>\n",
              "      <th>variety</th>\n",
              "    </tr>\n",
              "  </thead>\n",
              "  <tbody>\n",
              "    <tr>\n",
              "      <th>0</th>\n",
              "      <td>5.1</td>\n",
              "      <td>3.5</td>\n",
              "      <td>1.4</td>\n",
              "      <td>0.2</td>\n",
              "      <td>Setosa</td>\n",
              "    </tr>\n",
              "    <tr>\n",
              "      <th>1</th>\n",
              "      <td>4.9</td>\n",
              "      <td>3.0</td>\n",
              "      <td>1.4</td>\n",
              "      <td>0.2</td>\n",
              "      <td>Setosa</td>\n",
              "    </tr>\n",
              "    <tr>\n",
              "      <th>2</th>\n",
              "      <td>4.7</td>\n",
              "      <td>3.2</td>\n",
              "      <td>1.3</td>\n",
              "      <td>0.2</td>\n",
              "      <td>Setosa</td>\n",
              "    </tr>\n",
              "    <tr>\n",
              "      <th>3</th>\n",
              "      <td>4.6</td>\n",
              "      <td>3.1</td>\n",
              "      <td>1.5</td>\n",
              "      <td>0.2</td>\n",
              "      <td>Setosa</td>\n",
              "    </tr>\n",
              "    <tr>\n",
              "      <th>4</th>\n",
              "      <td>5.0</td>\n",
              "      <td>3.6</td>\n",
              "      <td>1.4</td>\n",
              "      <td>0.2</td>\n",
              "      <td>Setosa</td>\n",
              "    </tr>\n",
              "    <tr>\n",
              "      <th>...</th>\n",
              "      <td>...</td>\n",
              "      <td>...</td>\n",
              "      <td>...</td>\n",
              "      <td>...</td>\n",
              "      <td>...</td>\n",
              "    </tr>\n",
              "    <tr>\n",
              "      <th>145</th>\n",
              "      <td>6.7</td>\n",
              "      <td>3.0</td>\n",
              "      <td>5.2</td>\n",
              "      <td>2.3</td>\n",
              "      <td>Virginica</td>\n",
              "    </tr>\n",
              "    <tr>\n",
              "      <th>146</th>\n",
              "      <td>6.3</td>\n",
              "      <td>2.5</td>\n",
              "      <td>5.0</td>\n",
              "      <td>1.9</td>\n",
              "      <td>Virginica</td>\n",
              "    </tr>\n",
              "    <tr>\n",
              "      <th>147</th>\n",
              "      <td>6.5</td>\n",
              "      <td>3.0</td>\n",
              "      <td>5.2</td>\n",
              "      <td>2.0</td>\n",
              "      <td>Virginica</td>\n",
              "    </tr>\n",
              "    <tr>\n",
              "      <th>148</th>\n",
              "      <td>6.2</td>\n",
              "      <td>3.4</td>\n",
              "      <td>5.4</td>\n",
              "      <td>2.3</td>\n",
              "      <td>Virginica</td>\n",
              "    </tr>\n",
              "    <tr>\n",
              "      <th>149</th>\n",
              "      <td>5.9</td>\n",
              "      <td>3.0</td>\n",
              "      <td>5.1</td>\n",
              "      <td>1.8</td>\n",
              "      <td>Virginica</td>\n",
              "    </tr>\n",
              "  </tbody>\n",
              "</table>\n",
              "<p>150 rows × 5 columns</p>\n",
              "</div>\n",
              "      <button class=\"colab-df-convert\" onclick=\"convertToInteractive('df-30c75572-3c0c-400c-af95-fa4ee0cd3fab')\"\n",
              "              title=\"Convert this dataframe to an interactive table.\"\n",
              "              style=\"display:none;\">\n",
              "        \n",
              "  <svg xmlns=\"http://www.w3.org/2000/svg\" height=\"24px\"viewBox=\"0 0 24 24\"\n",
              "       width=\"24px\">\n",
              "    <path d=\"M0 0h24v24H0V0z\" fill=\"none\"/>\n",
              "    <path d=\"M18.56 5.44l.94 2.06.94-2.06 2.06-.94-2.06-.94-.94-2.06-.94 2.06-2.06.94zm-11 1L8.5 8.5l.94-2.06 2.06-.94-2.06-.94L8.5 2.5l-.94 2.06-2.06.94zm10 10l.94 2.06.94-2.06 2.06-.94-2.06-.94-.94-2.06-.94 2.06-2.06.94z\"/><path d=\"M17.41 7.96l-1.37-1.37c-.4-.4-.92-.59-1.43-.59-.52 0-1.04.2-1.43.59L10.3 9.45l-7.72 7.72c-.78.78-.78 2.05 0 2.83L4 21.41c.39.39.9.59 1.41.59.51 0 1.02-.2 1.41-.59l7.78-7.78 2.81-2.81c.8-.78.8-2.07 0-2.86zM5.41 20L4 18.59l7.72-7.72 1.47 1.35L5.41 20z\"/>\n",
              "  </svg>\n",
              "      </button>\n",
              "      \n",
              "  <style>\n",
              "    .colab-df-container {\n",
              "      display:flex;\n",
              "      flex-wrap:wrap;\n",
              "      gap: 12px;\n",
              "    }\n",
              "\n",
              "    .colab-df-convert {\n",
              "      background-color: #E8F0FE;\n",
              "      border: none;\n",
              "      border-radius: 50%;\n",
              "      cursor: pointer;\n",
              "      display: none;\n",
              "      fill: #1967D2;\n",
              "      height: 32px;\n",
              "      padding: 0 0 0 0;\n",
              "      width: 32px;\n",
              "    }\n",
              "\n",
              "    .colab-df-convert:hover {\n",
              "      background-color: #E2EBFA;\n",
              "      box-shadow: 0px 1px 2px rgba(60, 64, 67, 0.3), 0px 1px 3px 1px rgba(60, 64, 67, 0.15);\n",
              "      fill: #174EA6;\n",
              "    }\n",
              "\n",
              "    [theme=dark] .colab-df-convert {\n",
              "      background-color: #3B4455;\n",
              "      fill: #D2E3FC;\n",
              "    }\n",
              "\n",
              "    [theme=dark] .colab-df-convert:hover {\n",
              "      background-color: #434B5C;\n",
              "      box-shadow: 0px 1px 3px 1px rgba(0, 0, 0, 0.15);\n",
              "      filter: drop-shadow(0px 1px 2px rgba(0, 0, 0, 0.3));\n",
              "      fill: #FFFFFF;\n",
              "    }\n",
              "  </style>\n",
              "\n",
              "      <script>\n",
              "        const buttonEl =\n",
              "          document.querySelector('#df-30c75572-3c0c-400c-af95-fa4ee0cd3fab button.colab-df-convert');\n",
              "        buttonEl.style.display =\n",
              "          google.colab.kernel.accessAllowed ? 'block' : 'none';\n",
              "\n",
              "        async function convertToInteractive(key) {\n",
              "          const element = document.querySelector('#df-30c75572-3c0c-400c-af95-fa4ee0cd3fab');\n",
              "          const dataTable =\n",
              "            await google.colab.kernel.invokeFunction('convertToInteractive',\n",
              "                                                     [key], {});\n",
              "          if (!dataTable) return;\n",
              "\n",
              "          const docLinkHtml = 'Like what you see? Visit the ' +\n",
              "            '<a target=\"_blank\" href=https://colab.research.google.com/notebooks/data_table.ipynb>data table notebook</a>'\n",
              "            + ' to learn more about interactive tables.';\n",
              "          element.innerHTML = '';\n",
              "          dataTable['output_type'] = 'display_data';\n",
              "          await google.colab.output.renderOutput(dataTable, element);\n",
              "          const docLink = document.createElement('div');\n",
              "          docLink.innerHTML = docLinkHtml;\n",
              "          element.appendChild(docLink);\n",
              "        }\n",
              "      </script>\n",
              "    </div>\n",
              "  </div>\n",
              "  "
            ]
          },
          "metadata": {},
          "execution_count": 17
        }
      ]
    },
    {
      "cell_type": "code",
      "execution_count": 22,
      "metadata": {
        "_cell_guid": "09a16bf0-067b-8da0-3eed-2014dc8cfec7",
        "_execution_state": "idle",
        "_uuid": "c9fd2c2b0eb51ada3a4f57eb51023cb080a0d308",
        "colab": {
          "base_uri": "https://localhost:8080/",
          "height": 404
        },
        "id": "4DbZVEKDCYIU",
        "outputId": "bd37e045-ef70-443c-b189-8e7fb7279494"
      },
      "outputs": [
        {
          "output_type": "display_data",
          "data": {
            "text/plain": [
              "<Figure size 720x432 with 1 Axes>"
            ],
            "image/png": "[encoded data removed]"
          },
          "metadata": {
            "needs_background": "light"
          }
        }
      ],
      "source": [
        "fig = iris[iris.variety=='setosa'].plot(kind='scatter',x='sepal.length',y='sepal.width',color='orange', label='Setosa')\n",
        "iris[iris.variety=='versicolor'].plot(kind='scatter',x='sepal.length',y='sepal.width',color='blue', label='versicolor',ax=fig)\n",
        "iris[iris.variety=='Virginica'].plot(kind='scatter',x='sepal.length',y='sepal.width',color='green', label='virginica', ax=fig)\n",
        "fig.set_xlabel(\"Sepal Length\")\n",
        "fig.set_ylabel(\"Sepal Width\")\n",
        "fig.set_title(\"Sepal Length VS Width\")\n",
        "fig=plt.gcf()\n",
        "fig.set_size_inches(10,6)\n",
        "plt.show()"
      ]
    },
    {
      "cell_type": "markdown",
      "metadata": {
        "_cell_guid": "e853b9fa-a1db-cdc8-1f8f-0f5f2f2d1ab6",
        "_uuid": "d0793e117fd202f679b6ecb1239e0ab0a8cfd137",
        "id": "guNdzbIwCYIV"
      },
      "source": [
        "The above graph shows relationship between the sepal length and width. Now we will check relationship between the petal length and width."
      ]
    },
    {
      "cell_type": "code",
      "execution_count": 23,
      "metadata": {
        "_cell_guid": "ea5060b8-4067-cf46-99d6-a27be10a7e18",
        "_execution_state": "idle",
        "_uuid": "16a42e3a6615e48f7b8ed0a6dbb380de74dcd2c8",
        "colab": {
          "base_uri": "https://localhost:8080/",
          "height": 404
        },
        "id": "aRiB4iwJCYIW",
        "outputId": "0019795d-03c2-44d0-e039-c51cb94a5659"
      },
      "outputs": [
        {
          "output_type": "display_data",
          "data": {
            "text/plain": [
              "<Figure size 720x432 with 1 Axes>"
            ],
            "image/png": "[encoded data removed]"
          },
          "metadata": {
            "needs_background": "light"
          }
        }
      ],
      "source": [
        "fig = iris[iris.variety=='setosa'].plot(kind='scatter',x='petal.length',y='petal.width',color='orange', label='Setosa')\n",
        "iris[iris.variety=='versicolor'].plot(kind='scatter',x='petal.length',y='petal.width',color='blue', label='versicolor',ax=fig)\n",
        "iris[iris.variety=='Virginica'].plot(kind='scatter',x='petal.length',y='petal.width',color='green', label='virginica', ax=fig)\n",
        "fig.set_xlabel(\"petal Length\")\n",
        "fig.set_ylabel(\"petal Width\")\n",
        "fig.set_title(\" petal Length VS Width\")\n",
        "fig=plt.gcf()\n",
        "fig.set_size_inches(10,6)\n",
        "plt.show()"
      ]
    },
    {
      "cell_type": "markdown",
      "metadata": {
        "_cell_guid": "3068e91a-2455-f7ae-b1d0-a2114b78ea62",
        "_uuid": "dd90c7e433f42fea8e5836c91959429710491347",
        "id": "dfOL6hsqCYIX"
      },
      "source": [
        "As we can see that the petal Features are giving a better cluster division compared to the Sepal features. This is an indication that the petals can help in better and accurate Predictions over the Sepal. We will check that later."
      ]
    },
    {
      "cell_type": "markdown",
      "metadata": {
        "_cell_guid": "ac6bb577-9975-39d5-aa20-376e574e703c",
        "_uuid": "aaa439a16175b442a42e845060b7fe1bd2d246f0",
        "id": "XWddqW_rCYIX"
      },
      "source": [
        "### Now let us see how are the length and width are distributed"
      ]
    },
    {
      "cell_type": "code",
      "execution_count": 24,
      "metadata": {
        "_cell_guid": "d818068d-5110-c64e-ec6e-92bda44a9723",
        "_execution_state": "idle",
        "_uuid": "0ca23638e6e067ffd7501552f346674646e3e1d2",
        "colab": {
          "base_uri": "https://localhost:8080/",
          "height": 390
        },
        "id": "0T-_xi2CCYIX",
        "outputId": "26c1ad23-bb15-4255-95e9-edd7ce8ef330"
      },
      "outputs": [
        {
          "output_type": "display_data",
          "data": {
            "text/plain": [
              "<Figure size 864x432 with 4 Axes>"
            ],
            "image/png": "[encoded data removed]"
          },
          "metadata": {
            "needs_background": "light"
          }
        }
      ],
      "source": [
        "iris.hist(edgecolor='black', linewidth=1.2)\n",
        "fig=plt.gcf()\n",
        "fig.set_size_inches(12,6)\n",
        "plt.show()"
      ]
    },
    {
      "cell_type": "markdown",
      "metadata": {
        "_cell_guid": "cdb55848-d7eb-d66c-dec1-79cbbfba2826",
        "_uuid": "3e8d0f657f996be6f4020b1850148bade9fdc588",
        "id": "1BXCeXtKCYIY"
      },
      "source": [
        "### Now let us see how the length and width vary according to the variety"
      ]
    },
    {
      "cell_type": "code",
      "execution_count": 27,
      "metadata": {
        "_cell_guid": "a1d57f07-5c6b-4ab3-ad15-b8b5245c05b9",
        "_execution_state": "idle",
        "_uuid": "15e65581708a5b67ac8f0c1994fa08ef8158e799",
        "colab": {
          "base_uri": "https://localhost:8080/",
          "height": 623
        },
        "id": "cBIYamgnCYIY",
        "outputId": "ab647d3b-1172-4371-d240-8f6be0c6a6ce"
      },
      "outputs": [
        {
          "output_type": "execute_result",
          "data": {
            "text/plain": [
              "<matplotlib.axes._subplots.AxesSubplot at 0x7fcca45a2d50>"
            ]
          },
          "metadata": {},
          "execution_count": 27
        },
        {
          "output_type": "display_data",
          "data": {
            "text/plain": [
              "<Figure size 1080x720 with 4 Axes>"
            ],
            "image/png": "[encoded data removed]"
          },
          "metadata": {
            "needs_background": "light"
          }
        }
      ],
      "source": [
        "plt.figure(figsize=(15,10))\n",
        "plt.subplot(2,2,1)\n",
        "sns.violinplot(x='variety',y='petal.length',data=iris)\n",
        "plt.subplot(2,2,2)\n",
        "sns.violinplot(x='variety',y='etal.width',data=iris)\n",
        "plt.subplot(2,2,3)\n",
        "sns.violinplot(x='variety',y='sepal.length',data=iris)\n",
        "plt.subplot(2,2,4)\n",
        "sns.violinplot(x='variety',y='sepal.width',data=iris)"
      ]
    },
    {
      "cell_type": "markdown",
      "metadata": {
        "_cell_guid": "2497705a-9c08-5d8b-6ca0-0edc509e73b9",
        "_uuid": "0e907abebd6751fa3597fd6b08bb24eb13081443",
        "id": "DOvxJjvDCYIY"
      },
      "source": [
        "The violinplot shows density of the length and width in the variety. The thinner part denotes that there is less density whereas the fatter part conveys higher density"
      ]
    },
    {
      "cell_type": "markdown",
      "metadata": {
        "_cell_guid": "4df5f118-994c-4d7d-2fa1-b8a1ed1a82ec",
        "_uuid": "b45c7ca882bf32568268465f041282cfcd0e6fe9",
        "id": "RiGAnN6tCYIZ"
      },
      "source": [
        "### Now the given problem is a classification problem.. Thus we will be using the classification algorithms to build a model.\n",
        "**Classification**: samples belong to two or more classes and we want to learn from already labeled data how to predict the class of unlabeled data\n",
        "\n",
        "**Regression**: if the desired output consists of one or more continuous variables, then the task is called regression. An example of a regression problem would be the prediction of the length of a salmon as a function of its age and weight."
      ]
    },
    {
      "cell_type": "markdown",
      "metadata": {
        "_cell_guid": "b772ca1b-fd3c-d27a-b787-926c2df4e354",
        "_uuid": "a0436d5a5baa07027fdc10ad918d776e7fe948f4",
        "id": "koYJO6CYCYIZ"
      },
      "source": [
        "Before we start, we need to clear some ML notations.\n",
        "\n",
        "**attributes**-->An attribute is a property of an instance that may be used to determine its classification. In the following dataset, the attributes are the petal and sepal length and width. It is also known as **Features**.\n",
        "\n",
        "**Target variable**, in the machine learning context is the variable that is or should be the output. Here the target variables are the 3 flower variety."
      ]
    },
    {
      "cell_type": "code",
      "execution_count": 29,
      "metadata": {
        "_cell_guid": "c27e7e16-6083-5b53-cda4-c43cf4c79a67",
        "_execution_state": "idle",
        "_uuid": "2b652b2398f95bacb6286eac49694cd422a54e6a",
        "id": "eY6mpt6BCYIZ"
      },
      "outputs": [],
      "source": [
        "# importing alll the necessary packages to use the various classification algorithms\n",
        "from sklearn.linear_model import LogisticRegression  # for Logistic Regression algorithm\n",
        "from sklearn.model_selection import train_test_split #to split the dataset for training and testing\n",
        "from sklearn.neighbors import KNeighborsClassifier  # for K nearest neighbours\n",
        "from sklearn import svm  #for Support Vector Machine (SVM) Algorithm\n",
        "from sklearn import metrics #for checking the model accuracy\n",
        "from sklearn.tree import DecisionTreeClassifier #for using Decision Tree Algoithm"
      ]
    },
    {
      "cell_type": "code",
      "execution_count": 30,
      "metadata": {
        "_cell_guid": "d967de9a-df34-bc84-899b-28b8804f7d58",
        "_execution_state": "idle",
        "_uuid": "15457e7fa8ff19b86c2858c365f11fa289fca723",
        "colab": {
          "base_uri": "https://localhost:8080/"
        },
        "id": "wSl42n8LCYIa",
        "outputId": "d5b24b26-4a98-467b-b87a-d8408839b1c6"
      },
      "outputs": [
        {
          "output_type": "execute_result",
          "data": {
            "text/plain": [
              "(150, 5)"
            ]
          },
          "metadata": {},
          "execution_count": 30
        }
      ],
      "source": [
        "iris.shape #get the shape of the dataset"
      ]
    },
    {
      "cell_type": "markdown",
      "metadata": {
        "_cell_guid": "21c81da1-f5f8-8d86-6c23-76928d0ec387",
        "_uuid": "a09827c482cacd56f2040afdb162d46270551512",
        "id": "t2FC0C2NCYIa"
      },
      "source": [
        "Now, when we train any algorithm, the number of features and their correlation plays an important role. If there are features and many of the features are highly correlated, then training an algorithm with all the featues will reduce the accuracy. Thus features selection should be done carefully. This dataset has less featues but still we will see the correlation."
      ]
    },
    {
      "cell_type": "code",
      "execution_count": 31,
      "metadata": {
        "_cell_guid": "91f4a3b2-6e38-4d41-9ba0-52c7f43a581c",
        "_execution_state": "idle",
        "_uuid": "86e4d3c42eeec9d2df63d5f60c94e2c30b65ebd7",
        "colab": {
          "base_uri": "https://localhost:8080/",
          "height": 269
        },
        "id": "aSbyZKMKCYIa",
        "outputId": "d5485e6f-0b12-4e8d-fe5d-3dbffeab6369"
      },
      "outputs": [
        {
          "output_type": "display_data",
          "data": {
            "text/plain": [
              "<Figure size 504x288 with 2 Axes>"
            ],
            "image/png": "[encoded data removed]"
          },
          "metadata": {
            "needs_background": "light"
          }
        }
      ],
      "source": [
        "plt.figure(figsize=(7,4)) \n",
        "sns.heatmap(iris.corr(),annot=True,cmap='cubehelix_r') #draws  heatmap with input as the correlation matrix calculted by(iris.corr())\n",
        "plt.show()"
      ]
    },
    {
      "cell_type": "markdown",
      "metadata": {
        "_cell_guid": "45543c97-83ae-392c-183c-24d118985163",
        "_uuid": "a2456971023a8d78416ae87fd1b09173da1e357e",
        "id": "amUd0VhACYIb"
      },
      "source": [
        "**Observation--->**\n",
        "\n",
        "The Sepal Width and Length are not correlated\n",
        "The petal Width and Length are highly correlated\n",
        "\n",
        "We will use all the features for training the algorithm and check the accuracy.\n",
        "\n",
        "Then we will use 1 petal Feature and 1 Sepal Feature to check the accuracy of the algorithm as we are using only 2 features that are not correlated. Thus we can have a variance in the dataset which may help in better accuracy. We will check it later."
      ]
    },
    {
      "cell_type": "markdown",
      "metadata": {
        "_cell_guid": "74afdd84-2b1f-b6e3-b9e2-6c076e44cb10",
        "_uuid": "362675378d1f8d7892597877aa9dbd1caa20c0ff",
        "id": "a7R4PejPCYIc"
      },
      "source": [
        "### Steps To Be followed When Applying an Algorithm\n",
        "\n",
        " 1. Split the dataset into training and testing dataset. The testing dataset is generally smaller than training one as it will help in training the model better.\n",
        " 2. Select any algorithm based on the problem (classification or regression) whatever you feel may be good.\n",
        " 3. Then pass the training dataset to the algorithm to train it. We use the **.fit()** method\n",
        " 4. Then pass the testing data to the trained algorithm to predict the outcome. We use the **.predict()** method.\n",
        " 5. We then check the accuracy by **passing the predicted outcome and the actual output** to the model."
      ]
    },
    {
      "cell_type": "markdown",
      "metadata": {
        "_cell_guid": "2de179a6-ea22-00ff-8756-63d3aef6bd2d",
        "_uuid": "ffa8b5a66eb4651f46672b7263774dbcf125ecbf",
        "id": "LbBKR32ECYIc"
      },
      "source": [
        "### Splitting The Data into Training And Testing Dataset"
      ]
    },
    {
      "cell_type": "code",
      "execution_count": 32,
      "metadata": {
        "_cell_guid": "a24c3ab9-8c7d-2a78-113f-d337c5c61f09",
        "_execution_state": "idle",
        "_uuid": "87bc90a957a8defb5e24b886b641fb0a9aa5fc42",
        "colab": {
          "base_uri": "https://localhost:8080/"
        },
        "id": "0IyoQ0p1CYId",
        "outputId": "7c1b7ec0-4017-4dde-f840-9b3dd3b58f69"
      },
      "outputs": [
        {
          "output_type": "stream",
          "name": "stdout",
          "text": [
            "(105, 5)\n",
            "(45, 5)\n"
          ]
        }
      ],
      "source": [
        "train, test = train_test_split(iris, test_size = 0.3)# in this our main data is split into train and test\n",
        "# the attribute test_size=0.3 splits the data into 70% and 30% ratio. train=70% and test=30%\n",
        "print(train.shape)\n",
        "print(test.shape)"
      ]
    },
    {
      "cell_type": "code",
      "execution_count": 38,
      "metadata": {
        "_cell_guid": "54dd7ded-5079-fc8c-065b-70bfbfb0b83a",
        "_execution_state": "idle",
        "_uuid": "7a64738b8be79ad6b0f4899e985d3ab5e475f9e1",
        "collapsed": true,
        "id": "rjghl-HqCYId"
      },
      "outputs": [],
      "source": [
        "train_X = train[['sepal.length','sepal.width','petal.length','petal.width']]# taking the training data features\n",
        "train_y=train.variety# output of our training data\n",
        "test_X= test[['sepal.length','sepal.width','petal.length','petal.width']] # taking test data features\n",
        "test_y =test.variety   #output value of test data"
      ]
    },
    {
      "cell_type": "markdown",
      "metadata": {
        "_cell_guid": "c7d21e9f-8470-9aae-51ef-feea2cec6b1c",
        "_uuid": "0b18f7458fd76e93ed4a3932001f6f657cadb647",
        "id": "e4BI6AeWCYId"
      },
      "source": [
        "Lets check the Train and Test Dataset"
      ]
    },
    {
      "cell_type": "code",
      "execution_count": 39,
      "metadata": {
        "_cell_guid": "2cf23cff-74d0-b15e-87a9-5ed72f543380",
        "_execution_state": "idle",
        "_uuid": "8fa3e8f9f4ba0b27796008dd998c41670f1ffd95",
        "colab": {
          "base_uri": "https://localhost:8080/",
          "height": 112
        },
        "id": "_4wayC9hCYId",
        "outputId": "9631a4c3-3203-41d0-d3c5-140bb2102587"
      },
      "outputs": [
        {
          "output_type": "execute_result",
          "data": {
            "text/plain": [
              "     sepal.length  sepal.width  petal.length  petal.width\n",
              "73            6.1          2.8           4.7          1.2\n",
              "126           6.2          2.8           4.8          1.8"
            ],
            "text/html": [
              "\n",
              "  <div id=\"df-aab1ff6e-4d6b-4f33-a5f8-2cdeaae61daa\">\n",
              "    <div class=\"colab-df-container\">\n",
              "      <div>\n",
              "<style scoped>\n",
              "    .dataframe tbody tr th:only-of-type {\n",
              "        vertical-align: middle;\n",
              "    }\n",
              "\n",
              "    .dataframe tbody tr th {\n",
              "        vertical-align: top;\n",
              "    }\n",
              "\n",
              "    .dataframe thead th {\n",
              "        text-align: right;\n",
              "    }\n",
              "</style>\n",
              "<table border=\"1\" class=\"dataframe\">\n",
              "  <thead>\n",
              "    <tr style=\"text-align: right;\">\n",
              "      <th></th>\n",
              "      <th>sepal.length</th>\n",
              "      <th>sepal.width</th>\n",
              "      <th>petal.length</th>\n",
              "      <th>petal.width</th>\n",
              "    </tr>\n",
              "  </thead>\n",
              "  <tbody>\n",
              "    <tr>\n",
              "      <th>73</th>\n",
              "      <td>6.1</td>\n",
              "      <td>2.8</td>\n",
              "      <td>4.7</td>\n",
              "      <td>1.2</td>\n",
              "    </tr>\n",
              "    <tr>\n",
              "      <th>126</th>\n",
              "      <td>6.2</td>\n",
              "      <td>2.8</td>\n",
              "      <td>4.8</td>\n",
              "      <td>1.8</td>\n",
              "    </tr>\n",
              "  </tbody>\n",
              "</table>\n",
              "</div>\n",
              "      <button class=\"colab-df-convert\" onclick=\"convertToInteractive('df-aab1ff6e-4d6b-4f33-a5f8-2cdeaae61daa')\"\n",
              "              title=\"Convert this dataframe to an interactive table.\"\n",
              "              style=\"display:none;\">\n",
              "        \n",
              "  <svg xmlns=\"http://www.w3.org/2000/svg\" height=\"24px\"viewBox=\"0 0 24 24\"\n",
              "       width=\"24px\">\n",
              "    <path d=\"M0 0h24v24H0V0z\" fill=\"none\"/>\n",
              "    <path d=\"M18.56 5.44l.94 2.06.94-2.06 2.06-.94-2.06-.94-.94-2.06-.94 2.06-2.06.94zm-11 1L8.5 8.5l.94-2.06 2.06-.94-2.06-.94L8.5 2.5l-.94 2.06-2.06.94zm10 10l.94 2.06.94-2.06 2.06-.94-2.06-.94-.94-2.06-.94 2.06-2.06.94z\"/><path d=\"M17.41 7.96l-1.37-1.37c-.4-.4-.92-.59-1.43-.59-.52 0-1.04.2-1.43.59L10.3 9.45l-7.72 7.72c-.78.78-.78 2.05 0 2.83L4 21.41c.39.39.9.59 1.41.59.51 0 1.02-.2 1.41-.59l7.78-7.78 2.81-2.81c.8-.78.8-2.07 0-2.86zM5.41 20L4 18.59l7.72-7.72 1.47 1.35L5.41 20z\"/>\n",
              "  </svg>\n",
              "      </button>\n",
              "      \n",
              "  <style>\n",
              "    .colab-df-container {\n",
              "      display:flex;\n",
              "      flex-wrap:wrap;\n",
              "      gap: 12px;\n",
              "    }\n",
              "\n",
              "    .colab-df-convert {\n",
              "      background-color: #E8F0FE;\n",
              "      border: none;\n",
              "      border-radius: 50%;\n",
              "      cursor: pointer;\n",
              "      display: none;\n",
              "      fill: #1967D2;\n",
              "      height: 32px;\n",
              "      padding: 0 0 0 0;\n",
              "      width: 32px;\n",
              "    }\n",
              "\n",
              "    .colab-df-convert:hover {\n",
              "      background-color: #E2EBFA;\n",
              "      box-shadow: 0px 1px 2px rgba(60, 64, 67, 0.3), 0px 1px 3px 1px rgba(60, 64, 67, 0.15);\n",
              "      fill: #174EA6;\n",
              "    }\n",
              "\n",
              "    [theme=dark] .colab-df-convert {\n",
              "      background-color: #3B4455;\n",
              "      fill: #D2E3FC;\n",
              "    }\n",
              "\n",
              "    [theme=dark] .colab-df-convert:hover {\n",
              "      background-color: #434B5C;\n",
              "      box-shadow: 0px 1px 3px 1px rgba(0, 0, 0, 0.15);\n",
              "      filter: drop-shadow(0px 1px 2px rgba(0, 0, 0, 0.3));\n",
              "      fill: #FFFFFF;\n",
              "    }\n",
              "  </style>\n",
              "\n",
              "      <script>\n",
              "        const buttonEl =\n",
              "          document.querySelector('#df-aab1ff6e-4d6b-4f33-a5f8-2cdeaae61daa button.colab-df-convert');\n",
              "        buttonEl.style.display =\n",
              "          google.colab.kernel.accessAllowed ? 'block' : 'none';\n",
              "\n",
              "        async function convertToInteractive(key) {\n",
              "          const element = document.querySelector('#df-aab1ff6e-4d6b-4f33-a5f8-2cdeaae61daa');\n",
              "          const dataTable =\n",
              "            await google.colab.kernel.invokeFunction('convertToInteractive',\n",
              "                                                     [key], {});\n",
              "          if (!dataTable) return;\n",
              "\n",
              "          const docLinkHtml = 'Like what you see? Visit the ' +\n",
              "            '<a target=\"_blank\" href=https://colab.research.google.com/notebooks/data_table.ipynb>data table notebook</a>'\n",
              "            + ' to learn more about interactive tables.';\n",
              "          element.innerHTML = '';\n",
              "          dataTable['output_type'] = 'display_data';\n",
              "          await google.colab.output.renderOutput(dataTable, element);\n",
              "          const docLink = document.createElement('div');\n",
              "          docLink.innerHTML = docLinkHtml;\n",
              "          element.appendChild(docLink);\n",
              "        }\n",
              "      </script>\n",
              "    </div>\n",
              "  </div>\n",
              "  "
            ]
          },
          "metadata": {},
          "execution_count": 39
        }
      ],
      "source": [
        "train_X.head(2)"
      ]
    },
    {
      "cell_type": "code",
      "execution_count": 40,
      "metadata": {
        "_cell_guid": "ce373f86-18ae-095f-8629-5bb8307c1273",
        "_execution_state": "idle",
        "_uuid": "ad5d8e583245a888c9470ef155b7d69a5608d426",
        "colab": {
          "base_uri": "https://localhost:8080/",
          "height": 112
        },
        "id": "_oyefJKqCYIe",
        "outputId": "2866b509-606f-4546-86b4-af9896cec6d3"
      },
      "outputs": [
        {
          "output_type": "execute_result",
          "data": {
            "text/plain": [
              "     sepal.length  sepal.width  petal.length  petal.width\n",
              "33            5.5          4.2           1.4          0.2\n",
              "120           6.9          3.2           5.7          2.3"
            ],
            "text/html": [
              "\n",
              "  <div id=\"df-dcd2538d-3c90-4166-9d67-9d3db6824634\">\n",
              "    <div class=\"colab-df-container\">\n",
              "      <div>\n",
              "<style scoped>\n",
              "    .dataframe tbody tr th:only-of-type {\n",
              "        vertical-align: middle;\n",
              "    }\n",
              "\n",
              "    .dataframe tbody tr th {\n",
              "        vertical-align: top;\n",
              "    }\n",
              "\n",
              "    .dataframe thead th {\n",
              "        text-align: right;\n",
              "    }\n",
              "</style>\n",
              "<table border=\"1\" class=\"dataframe\">\n",
              "  <thead>\n",
              "    <tr style=\"text-align: right;\">\n",
              "      <th></th>\n",
              "      <th>sepal.length</th>\n",
              "      <th>sepal.width</th>\n",
              "      <th>petal.length</th>\n",
              "      <th>petal.width</th>\n",
              "    </tr>\n",
              "  </thead>\n",
              "  <tbody>\n",
              "    <tr>\n",
              "      <th>33</th>\n",
              "      <td>5.5</td>\n",
              "      <td>4.2</td>\n",
              "      <td>1.4</td>\n",
              "      <td>0.2</td>\n",
              "    </tr>\n",
              "    <tr>\n",
              "      <th>120</th>\n",
              "      <td>6.9</td>\n",
              "      <td>3.2</td>\n",
              "      <td>5.7</td>\n",
              "      <td>2.3</td>\n",
              "    </tr>\n",
              "  </tbody>\n",
              "</table>\n",
              "</div>\n",
              "      <button class=\"colab-df-convert\" onclick=\"convertToInteractive('df-dcd2538d-3c90-4166-9d67-9d3db6824634')\"\n",
              "              title=\"Convert this dataframe to an interactive table.\"\n",
              "              style=\"display:none;\">\n",
              "        \n",
              "  <svg xmlns=\"http://www.w3.org/2000/svg\" height=\"24px\"viewBox=\"0 0 24 24\"\n",
              "       width=\"24px\">\n",
              "    <path d=\"M0 0h24v24H0V0z\" fill=\"none\"/>\n",
              "    <path d=\"M18.56 5.44l.94 2.06.94-2.06 2.06-.94-2.06-.94-.94-2.06-.94 2.06-2.06.94zm-11 1L8.5 8.5l.94-2.06 2.06-.94-2.06-.94L8.5 2.5l-.94 2.06-2.06.94zm10 10l.94 2.06.94-2.06 2.06-.94-2.06-.94-.94-2.06-.94 2.06-2.06.94z\"/><path d=\"M17.41 7.96l-1.37-1.37c-.4-.4-.92-.59-1.43-.59-.52 0-1.04.2-1.43.59L10.3 9.45l-7.72 7.72c-.78.78-.78 2.05 0 2.83L4 21.41c.39.39.9.59 1.41.59.51 0 1.02-.2 1.41-.59l7.78-7.78 2.81-2.81c.8-.78.8-2.07 0-2.86zM5.41 20L4 18.59l7.72-7.72 1.47 1.35L5.41 20z\"/>\n",
              "  </svg>\n",
              "      </button>\n",
              "      \n",
              "  <style>\n",
              "    .colab-df-container {\n",
              "      display:flex;\n",
              "      flex-wrap:wrap;\n",
              "      gap: 12px;\n",
              "    }\n",
              "\n",
              "    .colab-df-convert {\n",
              "      background-color: #E8F0FE;\n",
              "      border: none;\n",
              "      border-radius: 50%;\n",
              "      cursor: pointer;\n",
              "      display: none;\n",
              "      fill: #1967D2;\n",
              "      height: 32px;\n",
              "      padding: 0 0 0 0;\n",
              "      width: 32px;\n",
              "    }\n",
              "\n",
              "    .colab-df-convert:hover {\n",
              "      background-color: #E2EBFA;\n",
              "      box-shadow: 0px 1px 2px rgba(60, 64, 67, 0.3), 0px 1px 3px 1px rgba(60, 64, 67, 0.15);\n",
              "      fill: #174EA6;\n",
              "    }\n",
              "\n",
              "    [theme=dark] .colab-df-convert {\n",
              "      background-color: #3B4455;\n",
              "      fill: #D2E3FC;\n",
              "    }\n",
              "\n",
              "    [theme=dark] .colab-df-convert:hover {\n",
              "      background-color: #434B5C;\n",
              "      box-shadow: 0px 1px 3px 1px rgba(0, 0, 0, 0.15);\n",
              "      filter: drop-shadow(0px 1px 2px rgba(0, 0, 0, 0.3));\n",
              "      fill: #FFFFFF;\n",
              "    }\n",
              "  </style>\n",
              "\n",
              "      <script>\n",
              "        const buttonEl =\n",
              "          document.querySelector('#df-dcd2538d-3c90-4166-9d67-9d3db6824634 button.colab-df-convert');\n",
              "        buttonEl.style.display =\n",
              "          google.colab.kernel.accessAllowed ? 'block' : 'none';\n",
              "\n",
              "        async function convertToInteractive(key) {\n",
              "          const element = document.querySelector('#df-dcd2538d-3c90-4166-9d67-9d3db6824634');\n",
              "          const dataTable =\n",
              "            await google.colab.kernel.invokeFunction('convertToInteractive',\n",
              "                                                     [key], {});\n",
              "          if (!dataTable) return;\n",
              "\n",
              "          const docLinkHtml = 'Like what you see? Visit the ' +\n",
              "            '<a target=\"_blank\" href=https://colab.research.google.com/notebooks/data_table.ipynb>data table notebook</a>'\n",
              "            + ' to learn more about interactive tables.';\n",
              "          element.innerHTML = '';\n",
              "          dataTable['output_type'] = 'display_data';\n",
              "          await google.colab.output.renderOutput(dataTable, element);\n",
              "          const docLink = document.createElement('div');\n",
              "          docLink.innerHTML = docLinkHtml;\n",
              "          element.appendChild(docLink);\n",
              "        }\n",
              "      </script>\n",
              "    </div>\n",
              "  </div>\n",
              "  "
            ]
          },
          "metadata": {},
          "execution_count": 40
        }
      ],
      "source": [
        "test_X.head(2)"
      ]
    },
    {
      "cell_type": "code",
      "execution_count": 41,
      "metadata": {
        "_cell_guid": "60f7b821-4335-e2e5-b868-3d6f850ea927",
        "_execution_state": "idle",
        "_uuid": "6e5039b56dec20594cdd457127d39c0009f5572a",
        "colab": {
          "base_uri": "https://localhost:8080/"
        },
        "id": "otIRt_paCYIe",
        "outputId": "09d688c1-ac2d-4300-f8d6-46fd259362c7"
      },
      "outputs": [
        {
          "output_type": "execute_result",
          "data": {
            "text/plain": [
              "73     Versicolor\n",
              "126     Virginica\n",
              "60     Versicolor\n",
              "50     Versicolor\n",
              "88     Versicolor\n",
              "Name: variety, dtype: object"
            ]
          },
          "metadata": {},
          "execution_count": 41
        }
      ],
      "source": [
        "train_y.head()  ##output of the training data"
      ]
    },
    {
      "cell_type": "markdown",
      "metadata": {
        "_cell_guid": "82010322-d6f3-467d-f1da-4cb3fc82d0bd",
        "_uuid": "41536ca3ef126cf761c2b8aca8f02ffa407a5996",
        "id": "1un3IHlgCYIf"
      },
      "source": [
        "### Support Vector Machine (SVM)"
      ]
    },
    {
      "cell_type": "code",
      "execution_count": 42,
      "metadata": {
        "_cell_guid": "be869394-0f6d-f062-dd1f-8d2c68f06104",
        "_execution_state": "idle",
        "_uuid": "94ed6a0a8a1acc6c42e37db3e50ab6f9380e17f8",
        "colab": {
          "base_uri": "https://localhost:8080/"
        },
        "id": "K2wv2vhUCYIg",
        "outputId": "0255060d-b4f8-4a7f-9cc0-2a6b8f09acb6"
      },
      "outputs": [
        {
          "output_type": "stream",
          "name": "stdout",
          "text": [
            "The accuracy of the SVM is: 0.9555555555555556\n"
          ]
        }
      ],
      "source": [
        "model = svm.SVC() #select the algorithm\n",
        "model.fit(train_X,train_y) # we train the algorithm with the training data and the training output\n",
        "prediction=model.predict(test_X) #now we pass the testing data to the trained algorithm\n",
        "print('The accuracy of the SVM is:',metrics.accuracy_score(prediction,test_y))#now we check the accuracy of the algorithm. \n",
        "#we pass the predicted output by the model and the actual output"
      ]
    },
    {
      "cell_type": "markdown",
      "metadata": {
        "_cell_guid": "78e50a4b-ea63-c546-a8c4-07f4e4084c27",
        "_uuid": "9e9fb51ffb0823fb9a7459ad0f164e52a800c15a",
        "id": "Ugg6wJOTCYIg"
      },
      "source": [
        "SVM is giving very good accuracy . We will continue to check the accuracy for different models.\n",
        "\n",
        "Now we will follow the same steps as above for training various machine learning algorithms."
      ]
    },
    {
      "cell_type": "markdown",
      "metadata": {
        "_cell_guid": "35d98035-f0ae-7d10-fe90-ec13865c5a14",
        "_uuid": "a2d76e51ba5e61a1a6f19675295f4405c2633eba",
        "id": "RVk5YrnqCYIg"
      },
      "source": [
        "### Logistic Regression"
      ]
    },
    {
      "cell_type": "code",
      "execution_count": 43,
      "metadata": {
        "_cell_guid": "ca772378-d3c4-4c87-ada6-b9d50a383b01",
        "_execution_state": "idle",
        "_uuid": "2b53cac02465732a986be2463b3f3411ab043716",
        "colab": {
          "base_uri": "https://localhost:8080/"
        },
        "id": "juyGUwGDCYIh",
        "outputId": "212b812a-6893-437d-a259-9737801d6ae4"
      },
      "outputs": [
        {
          "output_type": "stream",
          "name": "stdout",
          "text": [
            "The accuracy of the Logistic Regression is 0.9777777777777777\n"
          ]
        },
        {
          "output_type": "stream",
          "name": "stderr",
          "text": [
            "/usr/local/lib/python3.7/dist-packages/sklearn/linear_model/_logistic.py:818: ConvergenceWarning: lbfgs failed to converge (status=1):\n",
            "STOP: TOTAL NO. of ITERATIONS REACHED LIMIT.\n",
            "\n",
            "Increase the number of iterations (max_iter) or scale the data as shown in:\n",
            "    https://scikit-learn.org/stable/modules/preprocessing.html\n",
            "Please also refer to the documentation for alternative solver options:\n",
            "    https://scikit-learn.org/stable/modules/linear_model.html#logistic-regression\n",
            "  extra_warning_msg=_LOGISTIC_SOLVER_CONVERGENCE_MSG,\n"
          ]
        }
      ],
      "source": [
        "model = LogisticRegression()\n",
        "model.fit(train_X,train_y)\n",
        "prediction=model.predict(test_X)\n",
        "print('The accuracy of the Logistic Regression is',metrics.accuracy_score(prediction,test_y))"
      ]
    },
    {
      "cell_type": "markdown",
      "metadata": {
        "_cell_guid": "7dfab2de-ebb7-4864-675c-aafef45db7a1",
        "_uuid": "756183a2d33bfd269b75b11ce7980f7f22925004",
        "id": "yIpZm33CCYIh"
      },
      "source": [
        "### Decision Tree"
      ]
    },
    {
      "cell_type": "code",
      "execution_count": 44,
      "metadata": {
        "_cell_guid": "f918247c-a76b-4c58-5145-1fb0e8ab70b4",
        "_execution_state": "idle",
        "_uuid": "3c8158a18da7910b9ba8c3a5169a3009fb27c84f",
        "colab": {
          "base_uri": "https://localhost:8080/"
        },
        "id": "mEAUC18hCYIh",
        "outputId": "fa9552ba-6ac2-41fc-87dc-30583b96eeaf"
      },
      "outputs": [
        {
          "output_type": "stream",
          "name": "stdout",
          "text": [
            "The accuracy of the Decision Tree is 0.9111111111111111\n"
          ]
        }
      ],
      "source": [
        "model=DecisionTreeClassifier()\n",
        "model.fit(train_X,train_y)\n",
        "prediction=model.predict(test_X)\n",
        "print('The accuracy of the Decision Tree is',metrics.accuracy_score(prediction,test_y))"
      ]
    },
    {
      "cell_type": "markdown",
      "metadata": {
        "_cell_guid": "3e4594d9-5fe6-0568-1fc6-e02975278305",
        "_uuid": "3410b37d9410b8d9f0ebd5c6509b3250ed7714c1",
        "id": "7dP2uwbeCYIh"
      },
      "source": [
        "### K-Nearest Neighbours"
      ]
    },
    {
      "cell_type": "code",
      "execution_count": 45,
      "metadata": {
        "_cell_guid": "bcd55de7-cfab-c81d-25a8-1db8f0deee94",
        "_execution_state": "idle",
        "_uuid": "dda9e73ae95627994e68db9542d769b897d43bec",
        "colab": {
          "base_uri": "https://localhost:8080/"
        },
        "id": "daTXaBO_CYIh",
        "outputId": "c9490ccd-fc35-4734-a15f-272e5f36b530"
      },
      "outputs": [
        {
          "output_type": "stream",
          "name": "stdout",
          "text": [
            "The accuracy of the KNN is 0.9555555555555556\n"
          ]
        }
      ],
      "source": [
        "model=KNeighborsClassifier(n_neighbors=3) #this examines 3 neighbours for putting the new data into a class\n",
        "model.fit(train_X,train_y)\n",
        "prediction=model.predict(test_X)\n",
        "print('The accuracy of the KNN is',metrics.accuracy_score(prediction,test_y))"
      ]
    },
    {
      "cell_type": "markdown",
      "metadata": {
        "_cell_guid": "e6787513-11b0-5cdb-10ac-457292de9b55",
        "_uuid": "9cd754bcd0f4494014b69c4fe11d3b228b5eee3f",
        "id": "nWCzmjAfCYIi"
      },
      "source": [
        "### Let's check the accuracy for various values of n for K-Nearest nerighbours"
      ]
    },
    {
      "cell_type": "code",
      "execution_count": 46,
      "metadata": {
        "_cell_guid": "2c79e403-480a-0620-dd84-01ca038c72bd",
        "_execution_state": "idle",
        "_uuid": "abe2f8b04c14ad0618c13edd1777e7a8c2985781",
        "colab": {
          "base_uri": "https://localhost:8080/",
          "height": 511
        },
        "id": "b_GaBMX0CYIi",
        "outputId": "fbb8985b-62b4-499b-e169-1addf4ff7d59"
      },
      "outputs": [
        {
          "output_type": "stream",
          "name": "stderr",
          "text": [
            "/usr/local/lib/python3.7/dist-packages/ipykernel_launcher.py:2: DeprecationWarning: The default dtype for empty Series will be 'object' instead of 'float64' in a future version. Specify a dtype explicitly to silence this warning.\n",
            "  \n"
          ]
        },
        {
          "output_type": "execute_result",
          "data": {
            "text/plain": [
              "([<matplotlib.axis.XTick at 0x7fcc9f86a390>,\n",
              "  <matplotlib.axis.XTick at 0x7fcc9f86a350>,\n",
              "  <matplotlib.axis.XTick at 0x7fcc9f859f50>,\n",
              "  <matplotlib.axis.XTick at 0x7fcc9f814290>,\n",
              "  <matplotlib.axis.XTick at 0x7fcc9f814750>,\n",
              "  <matplotlib.axis.XTick at 0x7fcc9f814c90>,\n",
              "  <matplotlib.axis.XTick at 0x7fcc9f81b2d0>,\n",
              "  <matplotlib.axis.XTick at 0x7fcc9f814690>,\n",
              "  <matplotlib.axis.XTick at 0x7fcc9f81b610>,\n",
              "  <matplotlib.axis.XTick at 0x7fcc9f81b1d0>],\n",
              " <a list of 10 Text major ticklabel objects>)"
            ]
          },
          "metadata": {},
          "execution_count": 46
        },
        {
          "output_type": "display_data",
          "data": {
            "text/plain": [
              "<Figure size 432x288 with 1 Axes>"
            ],
            "image/png": "[encoded data removed]"
          },
          "metadata": {
            "needs_background": "light"
          }
        }
      ],
      "source": [
        "a_index=list(range(1,11))\n",
        "a=pd.Series()\n",
        "x=[1,2,3,4,5,6,7,8,9,10]\n",
        "for i in list(range(1,11)):\n",
        "    model=KNeighborsClassifier(n_neighbors=i) \n",
        "    model.fit(train_X,train_y)\n",
        "    prediction=model.predict(test_X)\n",
        "    a=a.append(pd.Series(metrics.accuracy_score(prediction,test_y)))\n",
        "plt.plot(a_index, a)\n",
        "plt.xticks(x)"
      ]
    },
    {
      "cell_type": "markdown",
      "metadata": {
        "_cell_guid": "de478d66-f9c6-6382-4a89-05c159bf657f",
        "_uuid": "0f1e3fad4a5403e758e4a3766c7887c65c9ab24b",
        "id": "clfqMeVlCYIi"
      },
      "source": [
        "Above is the graph showing the accuracy for the KNN models using different values of n. "
      ]
    },
    {
      "cell_type": "markdown",
      "metadata": {
        "_cell_guid": "cd3deccf-1025-320b-a269-40a99c7dd3f5",
        "_uuid": "8ad86c41920a005f238e20d4a84585079d558d16",
        "id": "H3hUem-dCYIi"
      },
      "source": [
        "### We used all the features of iris in above models. Now we will use petals and Sepals Seperately"
      ]
    },
    {
      "cell_type": "markdown",
      "metadata": {
        "_cell_guid": "74a20365-8410-1b88-5f76-522c73c39a09",
        "_uuid": "a5b27b547f5c0ad1ec8405aec1117e0e48180633",
        "id": "ATnEB_t1CYIi"
      },
      "source": [
        "### Creating petals And Sepals Training Data "
      ]
    },
    {
      "cell_type": "code",
      "execution_count": 49,
      "metadata": {
        "_cell_guid": "80dc70f3-ad29-fc83-27d7-f378a32f0a46",
        "_execution_state": "idle",
        "_uuid": "a5c6805e5ea06a4f1c9bf2b4879e609b4951780b",
        "collapsed": true,
        "id": "7VEW_U32CYIi"
      },
      "outputs": [],
      "source": [
        "petal=iris[['petal.length','petal.width','variety']]\n",
        "sepal=iris[['sepal.length','sepal.width','variety']]"
      ]
    },
    {
      "cell_type": "code",
      "execution_count": 52,
      "metadata": {
        "_cell_guid": "7048f50d-5ad5-3c48-3eaa-26a0f5bcb034",
        "_execution_state": "idle",
        "_uuid": "70b5ef63a17330a3d1f1d918831407bdf535e2bf",
        "collapsed": true,
        "id": "3ltHCyuVCYIj"
      },
      "outputs": [],
      "source": [
        "train_p,test_p=train_test_split(petal,test_size=0.3,random_state=0)  #petals\n",
        "train_x_p=train_p[['petal.width','petal.length']]\n",
        "train_y_p=train_p.variety\n",
        "test_x_p=test_p[['petal.width','petal.length']]\n",
        "test_y_p=test_p.variety\n",
        "\n",
        "\n",
        "train_s,test_s=train_test_split(sepal,test_size=0.3,random_state=0)  #Sepal\n",
        "train_x_s=train_s[['sepal.width','sepal.length']]\n",
        "train_y_s=train_s.variety\n",
        "test_x_s=test_s[['sepal.width','sepal.length']]\n",
        "test_y_s=test_s.variety"
      ]
    },
    {
      "cell_type": "markdown",
      "metadata": {
        "_cell_guid": "c7bc7029-2397-93a9-e063-afb7c129af8d",
        "_uuid": "05ed84baa609e7379bcb84bdad50c60650b86e49",
        "id": "LmR-kinWCYIj"
      },
      "source": [
        "### SVM"
      ]
    },
    {
      "cell_type": "code",
      "execution_count": 53,
      "metadata": {
        "_cell_guid": "bf8b63a2-7f74-f2d3-3f42-fb480ae26139",
        "_execution_state": "idle",
        "_uuid": "2abd62b140e7918b900c05400372ff1b5f1b2e97",
        "colab": {
          "base_uri": "https://localhost:8080/"
        },
        "id": "vWGspKLLCYIj",
        "outputId": "3e27ec02-7bfc-43b3-bf86-b949154ba38f"
      },
      "outputs": [
        {
          "output_type": "stream",
          "name": "stdout",
          "text": [
            "The accuracy of the SVM using petals is: 0.9777777777777777\n",
            "The accuracy of the SVM using Sepal is: 0.8\n"
          ]
        }
      ],
      "source": [
        "model=svm.SVC()\n",
        "model.fit(train_x_p,train_y_p) \n",
        "prediction=model.predict(test_x_p) \n",
        "print('The accuracy of the SVM using petals is:',metrics.accuracy_score(prediction,test_y_p))\n",
        "\n",
        "model=svm.SVC()\n",
        "model.fit(train_x_s,train_y_s) \n",
        "prediction=model.predict(test_x_s) \n",
        "print('The accuracy of the SVM using Sepal is:',metrics.accuracy_score(prediction,test_y_s))"
      ]
    },
    {
      "cell_type": "markdown",
      "metadata": {
        "_cell_guid": "4fd9e81b-8aad-1e15-8b88-819112c17071",
        "_uuid": "1fea5c6c187d41fe71248597fff47e49621fd83d",
        "id": "o103gP_wCYIj"
      },
      "source": [
        "### Logistic Regression"
      ]
    },
    {
      "cell_type": "code",
      "execution_count": 54,
      "metadata": {
        "_cell_guid": "8353f86a-d1fe-6f07-7eb5-4f651eba1197",
        "_execution_state": "idle",
        "_uuid": "f732c0dc0789acd023476ed80107c7a6f4ddeb71",
        "colab": {
          "base_uri": "https://localhost:8080/"
        },
        "id": "DFYx4KeCCYIj",
        "outputId": "7d7968e3-0bd0-4828-e833-570a2d488e26"
      },
      "outputs": [
        {
          "output_type": "stream",
          "name": "stdout",
          "text": [
            "The accuracy of the Logistic Regression using petals is: 0.9777777777777777\n",
            "The accuracy of the Logistic Regression using Sepals is: 0.8222222222222222\n"
          ]
        }
      ],
      "source": [
        "model = LogisticRegression()\n",
        "model.fit(train_x_p,train_y_p) \n",
        "prediction=model.predict(test_x_p) \n",
        "print('The accuracy of the Logistic Regression using petals is:',metrics.accuracy_score(prediction,test_y_p))\n",
        "\n",
        "model.fit(train_x_s,train_y_s) \n",
        "prediction=model.predict(test_x_s) \n",
        "print('The accuracy of the Logistic Regression using Sepals is:',metrics.accuracy_score(prediction,test_y_s))"
      ]
    },
    {
      "cell_type": "markdown",
      "metadata": {
        "_cell_guid": "d8905552-47ed-3654-6dcc-a9603fe2cd12",
        "_uuid": "8fff15cad2855cedd186d19af2e419c79a5e3e4f",
        "id": "BhKt9htLCYIk"
      },
      "source": [
        "### Decision Tree"
      ]
    },
    {
      "cell_type": "code",
      "execution_count": 55,
      "metadata": {
        "_cell_guid": "1383aeef-0009-c16c-3f2c-97d400de6282",
        "_execution_state": "idle",
        "_uuid": "973393361c06902445a5e8a2a6a1a3c3acdec967",
        "colab": {
          "base_uri": "https://localhost:8080/"
        },
        "id": "iaWm4tU_CYIk",
        "outputId": "42125df3-d4cb-4a66-d340-99c80ee4cf59"
      },
      "outputs": [
        {
          "output_type": "stream",
          "name": "stdout",
          "text": [
            "The accuracy of the Decision Tree using petals is: 0.9555555555555556\n",
            "The accuracy of the Decision Tree using Sepals is: 0.6666666666666666\n"
          ]
        }
      ],
      "source": [
        "model=DecisionTreeClassifier()\n",
        "model.fit(train_x_p,train_y_p) \n",
        "prediction=model.predict(test_x_p) \n",
        "print('The accuracy of the Decision Tree using petals is:',metrics.accuracy_score(prediction,test_y_p))\n",
        "\n",
        "model.fit(train_x_s,train_y_s) \n",
        "prediction=model.predict(test_x_s) \n",
        "print('The accuracy of the Decision Tree using Sepals is:',metrics.accuracy_score(prediction,test_y_s))"
      ]
    },
    {
      "cell_type": "markdown",
      "metadata": {
        "_cell_guid": "0d1fcf97-a603-ef57-5085-fab9b931c186",
        "_uuid": "52cb931113963aa7790c83c8427f49e03f109a65",
        "id": "qyEhMT3VCYIk"
      },
      "source": [
        "### K-Nearest Neighbours"
      ]
    },
    {
      "cell_type": "code",
      "execution_count": 56,
      "metadata": {
        "_cell_guid": "89fc030a-1c30-ee0d-7c62-7495fa476dba",
        "_execution_state": "idle",
        "_uuid": "122bd22d9a7e63f0e1f86be80a2d2dde82182536",
        "colab": {
          "base_uri": "https://localhost:8080/"
        },
        "id": "kOzQqYo8CYIk",
        "outputId": "6e27516f-d8d5-41c9-e197-bdd143330015"
      },
      "outputs": [
        {
          "output_type": "stream",
          "name": "stdout",
          "text": [
            "The accuracy of the KNN using petals is: 0.9777777777777777\n",
            "The accuracy of the KNN using Sepals is: 0.7333333333333333\n"
          ]
        }
      ],
      "source": [
        "model=KNeighborsClassifier(n_neighbors=3) \n",
        "model.fit(train_x_p,train_y_p) \n",
        "prediction=model.predict(test_x_p) \n",
        "print('The accuracy of the KNN using petals is:',metrics.accuracy_score(prediction,test_y_p))\n",
        "\n",
        "model.fit(train_x_s,train_y_s) \n",
        "prediction=model.predict(test_x_s) \n",
        "print('The accuracy of the KNN using Sepals is:',metrics.accuracy_score(prediction,test_y_s))"
      ]
    },
    {
      "cell_type": "markdown",
      "metadata": {
        "_cell_guid": "752b273a-43f6-9905-c42b-0a3003ad204c",
        "_uuid": "453bb5a7b5ee35d4dcbac52b6ee717d61d578c7f",
        "id": "yt4sdm8oCYIl"
      },
      "source": [
        "### Observations:\n",
        "\n",
        " - Using petals over Sepal for training the data gives a much better accuracy.\n",
        " - This was expected as we saw in the heatmap above that the correlation between the Sepal Width and Length was very low whereas the correlation between petal Width and Length was very high. "
      ]
    },
    {
      "cell_type": "markdown",
      "metadata": {
        "_cell_guid": "66bef947-c001-01e6-3064-cec367662f19",
        "_execution_state": "idle",
        "_uuid": "f561aab5cae104858575057eb7f93e7e8abaa77e",
        "id": "eMCkGXHeCYIl"
      },
      "source": [
        "# **Thank You!!** "
      ]
    }
  ],
  "metadata": {
    "_change_revision": 0,
    "_is_fork": false,
    "kernelspec": {
      "display_name": "Python 3",
      "language": "python",
      "name": "python3"
    },
    "language_info": {
      "codemirror_mode": {
        "name": "ipython",
        "version": 3
      },
      "file_extension": ".py",
      "mimetype": "text/x-python",
      "name": "python",
      "nbconvert_exporter": "python",
      "pygments_lexer": "ipython3",
      "version": "3.6.1"
    },
    "colab": {
      "name": "ML_trained_from_scratch_with_iris.ipynb",
      "provenance": []
    }
  },
  "nbformat": 4,
  "nbformat_minor": 0
}