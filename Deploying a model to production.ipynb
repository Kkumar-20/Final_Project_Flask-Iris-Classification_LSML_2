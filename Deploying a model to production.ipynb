{
 "cells": [
  {
   "cell_type": "markdown",
   "metadata": {
    "colab_type": "text",
    "id": "Y1E8yBOi_1Wy"
   },
   "source": [
    "# Step-by-step process of deploying a model to production\n",
    "\n",
    "The commissioning process should reduce the risk of incorrect changes to the service."
   ]
  },
  {
   "cell_type": "markdown",
   "metadata": {
    "colab_type": "text",
    "id": "knBnf-SeJt2U"
   },
   "source": [
    "The main task in this work is to get acquainted with the practical part of the process of validating candidates for commissioning at various stages."
   ]
  },
  {
   "cell_type": "markdown",
   "metadata": {
    "colab_type": "text",
    "id": "BBn3kfTxJwxp"
   },
   "source": [
    "Continuous integration can also be automated to eliminate human error when testing model versions."
   ]
  },
  {
   "cell_type": "markdown",
   "metadata": {
    "colab_type": "text",
    "id": "M7igk5luJw1g"
   },
   "source": [
    "All changes are available in [MLflow interface](/app/)"
   ]
  },
  {
   "cell_type": "markdown",
   "metadata": {
    "colab_type": "text",
    "id": "MvFqmcDgY0Zd"
   },
   "source": [
    "## Preparing Experiment Data\n",
    "\n",
    "Let's import the necessary modules and define the variables.\n",
    "\n",
    "The code is similar to the first laboratory work, we fill out the register of experiments for further work with them."
   ]
  },
  {
   "cell_type": "code",
   "execution_count": 46,
   "metadata": {
    "colab": {},
    "colab_type": "code",
    "id": "tibeYuDjYzV6",
    "outputId": "0a3777d1-9e32-4ce2-a50f-ef33bddcc4b4"
   },
   "outputs": [
    {
     "name": "stdout",
     "output_type": "stream",
     "text": [
      "Elasticnet model (alpha=0.300000, l1_ratio=0.500000):\n",
      "  RMSE: 0.22744552699068046\n",
      "  MAE: 0.2016874375196894\n",
      "  R2: 0.7887631733620541\n",
      "Elasticnet model (alpha=0.300000, l1_ratio=0.300000):\n",
      "  RMSE: 0.21430541884512883\n",
      "  MAE: 0.19068179306295002\n",
      "  R2: 0.8124655154355901\n",
      "Elasticnet model (alpha=0.800000, l1_ratio=0.500000):\n",
      "  RMSE: 0.3388654849846033\n",
      "  MAE: 0.3143659462145404\n",
      "  R2: 0.5311115809351108\n",
      "Elasticnet model (alpha=0.450000, l1_ratio=0.300000):\n",
      "  RMSE: 0.23220806152760973\n",
      "  MAE: 0.20570007884891398\n",
      "  R2: 0.7798242826598251\n",
      "Elasticnet model (alpha=0.200000, l1_ratio=0.300000):\n",
      "  RMSE: 0.20467188959740729\n",
      "  MAE: 0.18074904196419297\n",
      "  R2: 0.8289467885685591\n",
      "Elasticnet model (alpha=0.900000, l1_ratio=0.900000):\n",
      "  RMSE: 0.5063373885270652\n",
      "  MAE: 0.47448979591836743\n",
      "  R2: -0.046875\n"
     ]
    }
   ],
   "source": [
    "import os\n",
    "import sys\n",
    "import warnings\n",
    "import pprint\n",
    "\n",
    "import pandas as pd\n",
    "import numpy as np\n",
    "from sklearn.metrics import mean_squared_error, mean_absolute_error, r2_score\n",
    "from sklearn.model_selection import train_test_split\n",
    "from sklearn.linear_model import ElasticNet\n",
    "from mlflow.tracking import MlflowClient\n",
    "\n",
    "\n",
    "import mlflow\n",
    "import mlflow.sklearn\n",
    "\n",
    "MLFLOW_SERVER_URL = 'http://127.0.0.1:5000/'\n",
    "experiment_name = 'Final_Project1'\n",
    "\n",
    "warnings.filterwarnings(\"ignore\")\n",
    "np.random.seed(40)\n",
    "data = pd.read_csv(\"Dataset/iris.csv\")\n",
    "\n",
    "import sklearn\n",
    "encoder = sklearn.preprocessing.OneHotEncoder(handle_unknown='ignore')\n",
    "y = np.array(data[\"variety\"])\n",
    "y = y.reshape(-1,1)\n",
    "encoder.fit(y)\n",
    "data[\"variety\"] = encoder.transform(y).toarray()\n",
    "\n",
    "train, test = train_test_split(data)\n",
    "\n",
    "train_x = train.drop([\"variety\"], axis=1)\n",
    "test_x = test.drop([\"variety\"], axis=1)\n",
    "train_y = train[[\"variety\"]]\n",
    "test_y = test[[\"variety\"]]\n",
    "\n",
    "test_later_x, test_x = test_x[:10], test_x[10:]\n",
    "test_later_y, test_y = test_y[:10], test_y[10:]\n",
    "\n",
    "client = mlflow.tracking.MlflowClient(MLFLOW_SERVER_URL)\n",
    "\n",
    "mlflow.set_tracking_uri(MLFLOW_SERVER_URL)\n",
    "\n",
    "mlflow.set_experiment(experiment_name)\n",
    "\n",
    "\n",
    "for alpha, l1_ratio in ((0.3, 0.5), (0.3, 0.3), (0.8, 0.5), (0.45, 0.3), (0.2, 0.3), (0.9, 0.9)):\n",
    "    with mlflow.start_run():\n",
    "        \n",
    "        lr = ElasticNet(alpha=alpha, l1_ratio=l1_ratio, random_state=42)\n",
    "        lr.fit(train_x, train_y)\n",
    "\n",
    "        predicted_qualities = lr.predict(test_x)\n",
    "        rmse = np.sqrt(mean_squared_error(test_y, predicted_qualities))\n",
    "        mae = mean_absolute_error(test_y, predicted_qualities)\n",
    "        r2 = r2_score(test_y, predicted_qualities)\n",
    "\n",
    "        print(\"Elasticnet model (alpha=%f, l1_ratio=%f):\" % (alpha, l1_ratio))\n",
    "        print(\"  RMSE: %s\" % rmse)\n",
    "        print(\"  MAE: %s\" % mae)\n",
    "        print(\"  R2: %s\" % r2)\n",
    "\n",
    "        mlflow.log_param(\"alpha\", alpha)\n",
    "        mlflow.log_param(\"l1_ratio\", l1_ratio)\n",
    "        mlflow.log_metric(\"rmse\", rmse)\n",
    "        mlflow.log_metric(\"r2\", r2)\n",
    "        mlflow.log_metric(\"mae\", mae)\n",
    "\n",
    "        mlflow.sklearn.log_model(lr, \"model\")"
   ]
  },
  {
   "cell_type": "markdown",
   "metadata": {
    "colab_type": "text",
    "id": "STYWFUe-V6S-"
   },
   "source": [
    "## Overview of the existing architecture and model deployment process\n",
    "\n",
    "MLflow has registered several experiment runs with different metrics.\n",
    "\n",
    "List of experiments:"
   ]
  },
  {
   "cell_type": "code",
   "execution_count": 47,
   "metadata": {
    "colab": {},
    "colab_type": "code",
    "id": "nBwf1hbhWWVq",
    "outputId": "2751b6ae-b2d9-4fc7-ce1e-b93dd77aca35"
   },
   "outputs": [
    {
     "data": {
      "text/plain": [
       "[<RunInfo: artifact_uri='./mlruns/16/52acbc02e2c14d92927dcf1552dafc07/artifacts', end_time=1652034380092, experiment_id='16', lifecycle_stage='active', run_id='52acbc02e2c14d92927dcf1552dafc07', run_uuid='52acbc02e2c14d92927dcf1552dafc07', start_time=1652034377518, status='FINISHED', user_id='kanishkkumar'>,\n",
       " <RunInfo: artifact_uri='./mlruns/16/9c3f3de071e94ddbb18b9fd0f74b197b/artifacts', end_time=1652034377508, experiment_id='16', lifecycle_stage='active', run_id='9c3f3de071e94ddbb18b9fd0f74b197b', run_uuid='9c3f3de071e94ddbb18b9fd0f74b197b', start_time=1652034374501, status='FINISHED', user_id='kanishkkumar'>,\n",
       " <RunInfo: artifact_uri='./mlruns/16/775fa278145244e4afc7ba1e7dedb99b/artifacts', end_time=1652034374485, experiment_id='16', lifecycle_stage='active', run_id='775fa278145244e4afc7ba1e7dedb99b', run_uuid='775fa278145244e4afc7ba1e7dedb99b', start_time=1652034371791, status='FINISHED', user_id='kanishkkumar'>,\n",
       " <RunInfo: artifact_uri='./mlruns/16/daa675626b7546f5b20d311e214be029/artifacts', end_time=1652034371780, experiment_id='16', lifecycle_stage='active', run_id='daa675626b7546f5b20d311e214be029', run_uuid='daa675626b7546f5b20d311e214be029', start_time=1652034369035, status='FINISHED', user_id='kanishkkumar'>,\n",
       " <RunInfo: artifact_uri='./mlruns/16/7248fefc6f4c4b64a12f4e60cd2b4020/artifacts', end_time=1652034369023, experiment_id='16', lifecycle_stage='active', run_id='7248fefc6f4c4b64a12f4e60cd2b4020', run_uuid='7248fefc6f4c4b64a12f4e60cd2b4020', start_time=1652034366799, status='FINISHED', user_id='kanishkkumar'>,\n",
       " <RunInfo: artifact_uri='./mlruns/16/b4eca90fab0148cc9f4556e87f3d7bd8/artifacts', end_time=1652034366777, experiment_id='16', lifecycle_stage='active', run_id='b4eca90fab0148cc9f4556e87f3d7bd8', run_uuid='b4eca90fab0148cc9f4556e87f3d7bd8', start_time=1652034361401, status='FINISHED', user_id='kanishkkumar'>]"
      ]
     },
     "execution_count": 47,
     "metadata": {},
     "output_type": "execute_result"
    }
   ],
   "source": [
    "client = mlflow.tracking.MlflowClient(MLFLOW_SERVER_URL)\n",
    "experiment = client.get_experiment_by_name(experiment_name)\n",
    "client.list_run_infos(experiment.experiment_id)"
   ]
  },
  {
   "cell_type": "markdown",
   "metadata": {
    "colab_type": "text",
    "id": "cEYadNDrV7C6"
   },
   "source": [
    "## Process for model loss and Epoch"
   ]
  },
  {
   "cell_type": "code",
   "execution_count": 54,
   "metadata": {},
   "outputs": [
    {
     "name": "stdout",
     "output_type": "stream",
     "text": [
      "Epoch 1/100\n",
      "2/2 [==============================] - 1s 226ms/step - loss: 0.4109 - val_loss: 0.2762\n",
      "Epoch 2/100\n",
      "2/2 [==============================] - 0s 53ms/step - loss: 0.2434 - val_loss: 0.2070\n",
      "Epoch 3/100\n",
      "2/2 [==============================] - 0s 51ms/step - loss: 0.1930 - val_loss: 0.2027\n",
      "Epoch 4/100\n",
      "2/2 [==============================] - 0s 77ms/step - loss: 0.1949 - val_loss: 0.2033\n",
      "Epoch 5/100\n",
      "2/2 [==============================] - 0s 39ms/step - loss: 0.1934 - val_loss: 0.1854\n",
      "Epoch 6/100\n",
      "2/2 [==============================] - 0s 108ms/step - loss: 0.1727 - val_loss: 0.1566\n",
      "Epoch 7/100\n",
      "2/2 [==============================] - 0s 93ms/step - loss: 0.1413 - val_loss: 0.1294\n",
      "Epoch 8/100\n",
      "2/2 [==============================] - 0s 84ms/step - loss: 0.1148 - val_loss: 0.1101\n",
      "Epoch 9/100\n",
      "2/2 [==============================] - 0s 116ms/step - loss: 0.0969 - val_loss: 0.0979\n",
      "Epoch 10/100\n",
      "2/2 [==============================] - 0s 97ms/step - loss: 0.0872 - val_loss: 0.0878\n",
      "Epoch 11/100\n",
      "2/2 [==============================] - 0s 53ms/step - loss: 0.0788 - val_loss: 0.0763\n",
      "Epoch 12/100\n",
      "2/2 [==============================] - 0s 44ms/step - loss: 0.0672 - val_loss: 0.0642\n",
      "Epoch 13/100\n",
      "2/2 [==============================] - 0s 58ms/step - loss: 0.0562 - val_loss: 0.0542\n",
      "Epoch 14/100\n",
      "2/2 [==============================] - 0s 39ms/step - loss: 0.0463 - val_loss: 0.0490\n",
      "Epoch 15/100\n",
      "2/2 [==============================] - 0s 44ms/step - loss: 0.0395 - val_loss: 0.0468\n",
      "Epoch 16/100\n",
      "2/2 [==============================] - 0s 84ms/step - loss: 0.0373 - val_loss: 0.0445\n",
      "Epoch 17/100\n",
      "2/2 [==============================] - 0s 69ms/step - loss: 0.0344 - val_loss: 0.0393\n",
      "Epoch 18/100\n",
      "2/2 [==============================] - 0s 68ms/step - loss: 0.0298 - val_loss: 0.0327\n",
      "Epoch 19/100\n",
      "2/2 [==============================] - 0s 77ms/step - loss: 0.0253 - val_loss: 0.0272\n",
      "Epoch 20/100\n",
      "2/2 [==============================] - 0s 44ms/step - loss: 0.0230 - val_loss: 0.0238\n",
      "Epoch 21/100\n",
      "2/2 [==============================] - 0s 59ms/step - loss: 0.0217 - val_loss: 0.0219\n",
      "Epoch 22/100\n",
      "2/2 [==============================] - 0s 51ms/step - loss: 0.0211 - val_loss: 0.0208\n",
      "Epoch 23/100\n",
      "2/2 [==============================] - 0s 99ms/step - loss: 0.0200 - val_loss: 0.0204\n",
      "Epoch 24/100\n",
      "2/2 [==============================] - 0s 66ms/step - loss: 0.0188 - val_loss: 0.0207\n",
      "Epoch 25/100\n",
      "2/2 [==============================] - 0s 60ms/step - loss: 0.0183 - val_loss: 0.0215\n",
      "Epoch 26/100\n",
      "2/2 [==============================] - 0s 50ms/step - loss: 0.0183 - val_loss: 0.0220\n",
      "Epoch 27/100\n",
      "2/2 [==============================] - 0s 90ms/step - loss: 0.0182 - val_loss: 0.0214\n",
      "Epoch 28/100\n",
      "2/2 [==============================] - 0s 57ms/step - loss: 0.0178 - val_loss: 0.0199\n",
      "Epoch 29/100\n",
      "2/2 [==============================] - 0s 42ms/step - loss: 0.0174 - val_loss: 0.0183\n",
      "Epoch 30/100\n",
      "2/2 [==============================] - 0s 159ms/step - loss: 0.0167 - val_loss: 0.0174\n",
      "Epoch 31/100\n",
      "2/2 [==============================] - 0s 48ms/step - loss: 0.0164 - val_loss: 0.0169\n",
      "Epoch 32/100\n",
      "2/2 [==============================] - 0s 73ms/step - loss: 0.0161 - val_loss: 0.0166\n",
      "Epoch 33/100\n",
      "2/2 [==============================] - 0s 52ms/step - loss: 0.0156 - val_loss: 0.0165\n",
      "Epoch 34/100\n",
      "2/2 [==============================] - 0s 71ms/step - loss: 0.0152 - val_loss: 0.0166\n",
      "Epoch 35/100\n",
      "2/2 [==============================] - 0s 56ms/step - loss: 0.0147 - val_loss: 0.0166\n",
      "Epoch 36/100\n",
      "2/2 [==============================] - 0s 128ms/step - loss: 0.0143 - val_loss: 0.0161\n",
      "Epoch 37/100\n",
      "2/2 [==============================] - 0s 286ms/step - loss: 0.0140 - val_loss: 0.0156\n",
      "Epoch 38/100\n",
      "2/2 [==============================] - 0s 73ms/step - loss: 0.0135 - val_loss: 0.0153\n",
      "Epoch 39/100\n",
      "2/2 [==============================] - 0s 72ms/step - loss: 0.0132 - val_loss: 0.0149\n",
      "Epoch 40/100\n",
      "2/2 [==============================] - 0s 58ms/step - loss: 0.0129 - val_loss: 0.0146\n",
      "Epoch 41/100\n",
      "2/2 [==============================] - 0s 62ms/step - loss: 0.0126 - val_loss: 0.0143\n",
      "Epoch 42/100\n",
      "2/2 [==============================] - 0s 79ms/step - loss: 0.0123 - val_loss: 0.0139\n",
      "Epoch 43/100\n",
      "2/2 [==============================] - 0s 153ms/step - loss: 0.0121 - val_loss: 0.0139\n",
      "Epoch 44/100\n",
      "2/2 [==============================] - 0s 78ms/step - loss: 0.0117 - val_loss: 0.0143\n",
      "Epoch 45/100\n",
      "2/2 [==============================] - 0s 86ms/step - loss: 0.0116 - val_loss: 0.0147\n",
      "Epoch 46/100\n",
      "2/2 [==============================] - 0s 48ms/step - loss: 0.0116 - val_loss: 0.0144\n",
      "Epoch 47/100\n",
      "2/2 [==============================] - 0s 45ms/step - loss: 0.0113 - val_loss: 0.0135\n",
      "Epoch 48/100\n",
      "2/2 [==============================] - 0s 48ms/step - loss: 0.0110 - val_loss: 0.0127\n",
      "Epoch 49/100\n",
      "2/2 [==============================] - 0s 51ms/step - loss: 0.0108 - val_loss: 0.0123\n",
      "Epoch 50/100\n",
      "2/2 [==============================] - 0s 43ms/step - loss: 0.0108 - val_loss: 0.0120\n",
      "Epoch 51/100\n",
      "2/2 [==============================] - 0s 64ms/step - loss: 0.0107 - val_loss: 0.0121\n",
      "Epoch 52/100\n",
      "2/2 [==============================] - 0s 59ms/step - loss: 0.0102 - val_loss: 0.0127\n",
      "Epoch 53/100\n",
      "2/2 [==============================] - 0s 35ms/step - loss: 0.0103 - val_loss: 0.0134\n",
      "Epoch 54/100\n",
      "2/2 [==============================] - 0s 25ms/step - loss: 0.0104 - val_loss: 0.0129\n",
      "Epoch 55/100\n",
      "2/2 [==============================] - 0s 69ms/step - loss: 0.0100 - val_loss: 0.0116\n",
      "Epoch 56/100\n",
      "2/2 [==============================] - 0s 39ms/step - loss: 0.0098 - val_loss: 0.0109\n",
      "Epoch 57/100\n",
      "2/2 [==============================] - 0s 51ms/step - loss: 0.0099 - val_loss: 0.0107\n",
      "Epoch 58/100\n",
      "2/2 [==============================] - 0s 55ms/step - loss: 0.0099 - val_loss: 0.0107\n",
      "Epoch 59/100\n",
      "2/2 [==============================] - 0s 43ms/step - loss: 0.0095 - val_loss: 0.0111\n",
      "Epoch 60/100\n",
      "2/2 [==============================] - 0s 72ms/step - loss: 0.0094 - val_loss: 0.0118\n",
      "Epoch 61/100\n",
      "2/2 [==============================] - 0s 26ms/step - loss: 0.0095 - val_loss: 0.0117\n",
      "Epoch 62/100\n",
      "2/2 [==============================] - 0s 29ms/step - loss: 0.0094 - val_loss: 0.0110\n",
      "Epoch 63/100\n",
      "2/2 [==============================] - 0s 30ms/step - loss: 0.0091 - val_loss: 0.0103\n",
      "Epoch 64/100\n",
      "2/2 [==============================] - 0s 27ms/step - loss: 0.0090 - val_loss: 0.0101\n",
      "Epoch 65/100\n",
      "2/2 [==============================] - 0s 23ms/step - loss: 0.0091 - val_loss: 0.0100\n",
      "Epoch 66/100\n",
      "2/2 [==============================] - 0s 38ms/step - loss: 0.0089 - val_loss: 0.0104\n",
      "Epoch 67/100\n",
      "2/2 [==============================] - 0s 28ms/step - loss: 0.0089 - val_loss: 0.0108\n",
      "Epoch 68/100\n",
      "2/2 [==============================] - 0s 26ms/step - loss: 0.0088 - val_loss: 0.0104\n",
      "Epoch 69/100\n",
      "2/2 [==============================] - 0s 38ms/step - loss: 0.0086 - val_loss: 0.0100\n",
      "Epoch 70/100\n",
      "2/2 [==============================] - 0s 26ms/step - loss: 0.0085 - val_loss: 0.0096\n",
      "Epoch 71/100\n",
      "2/2 [==============================] - 0s 43ms/step - loss: 0.0085 - val_loss: 0.0095\n",
      "Epoch 72/100\n",
      "2/2 [==============================] - 0s 38ms/step - loss: 0.0084 - val_loss: 0.0095\n",
      "Epoch 73/100\n",
      "2/2 [==============================] - 0s 38ms/step - loss: 0.0083 - val_loss: 0.0096\n",
      "Epoch 74/100\n",
      "2/2 [==============================] - 0s 85ms/step - loss: 0.0082 - val_loss: 0.0095\n",
      "Epoch 75/100\n",
      "2/2 [==============================] - 0s 55ms/step - loss: 0.0081 - val_loss: 0.0093\n",
      "Epoch 76/100\n",
      "2/2 [==============================] - 0s 56ms/step - loss: 0.0080 - val_loss: 0.0093\n",
      "Epoch 77/100\n",
      "2/2 [==============================] - 0s 84ms/step - loss: 0.0080 - val_loss: 0.0093\n",
      "Epoch 78/100\n",
      "2/2 [==============================] - 0s 74ms/step - loss: 0.0078 - val_loss: 0.0093\n",
      "Epoch 79/100\n",
      "2/2 [==============================] - 0s 73ms/step - loss: 0.0078 - val_loss: 0.0093\n",
      "Epoch 80/100\n",
      "2/2 [==============================] - 0s 64ms/step - loss: 0.0077 - val_loss: 0.0091\n",
      "Epoch 81/100\n",
      "2/2 [==============================] - 0s 91ms/step - loss: 0.0076 - val_loss: 0.0089\n",
      "Epoch 82/100\n",
      "2/2 [==============================] - 0s 46ms/step - loss: 0.0076 - val_loss: 0.0087\n",
      "Epoch 83/100\n",
      "2/2 [==============================] - 0s 74ms/step - loss: 0.0075 - val_loss: 0.0087\n"
     ]
    },
    {
     "name": "stdout",
     "output_type": "stream",
     "text": [
      "Epoch 84/100\n",
      "2/2 [==============================] - 0s 56ms/step - loss: 0.0074 - val_loss: 0.0089\n",
      "Epoch 85/100\n",
      "2/2 [==============================] - 0s 50ms/step - loss: 0.0074 - val_loss: 0.0091\n",
      "Epoch 86/100\n",
      "2/2 [==============================] - 0s 59ms/step - loss: 0.0074 - val_loss: 0.0090\n",
      "Epoch 87/100\n",
      "2/2 [==============================] - 0s 87ms/step - loss: 0.0073 - val_loss: 0.0087\n",
      "Epoch 88/100\n",
      "2/2 [==============================] - 0s 50ms/step - loss: 0.0072 - val_loss: 0.0085\n",
      "Epoch 89/100\n",
      "2/2 [==============================] - 0s 47ms/step - loss: 0.0071 - val_loss: 0.0083\n",
      "Epoch 90/100\n",
      "2/2 [==============================] - 0s 53ms/step - loss: 0.0071 - val_loss: 0.0082\n",
      "Epoch 91/100\n",
      "2/2 [==============================] - 0s 107ms/step - loss: 0.0070 - val_loss: 0.0084\n",
      "Epoch 92/100\n",
      "2/2 [==============================] - 0s 74ms/step - loss: 0.0069 - val_loss: 0.0086\n",
      "Epoch 93/100\n",
      "2/2 [==============================] - 0s 61ms/step - loss: 0.0069 - val_loss: 0.0083\n",
      "Epoch 94/100\n",
      "2/2 [==============================] - 0s 59ms/step - loss: 0.0068 - val_loss: 0.0081\n",
      "Epoch 95/100\n",
      "2/2 [==============================] - 0s 52ms/step - loss: 0.0067 - val_loss: 0.0081\n",
      "Epoch 96/100\n",
      "2/2 [==============================] - 0s 44ms/step - loss: 0.0067 - val_loss: 0.0081\n",
      "Epoch 97/100\n",
      "2/2 [==============================] - 0s 29ms/step - loss: 0.0066 - val_loss: 0.0081\n",
      "Epoch 98/100\n",
      "2/2 [==============================] - 0s 44ms/step - loss: 0.0066 - val_loss: 0.0083\n",
      "Epoch 99/100\n",
      "2/2 [==============================] - 0s 37ms/step - loss: 0.0066 - val_loss: 0.0082\n",
      "Epoch 100/100\n",
      "2/2 [==============================] - 0s 66ms/step - loss: 0.0065 - val_loss: 0.0079\n",
      "INFO:tensorflow:Assets written to: /var/folders/4v/ly_0zrn96tq82mx7z3363f_c0000gn/T/tmp53e8k_8x/model/data/model/assets\n"
     ]
    }
   ],
   "source": [
    "def train_keras_model(X, y):\n",
    "  import tensorflow.keras\n",
    "  from tensorflow.keras.models import Sequential\n",
    "  from tensorflow.keras.layers import Dense\n",
    "\n",
    "  model = Sequential()\n",
    "  model.add(Dense(100, input_shape=(train_x.shape[-1],), activation=\"relu\", name=\"hidden_layer\"))\n",
    "  model.add(Dense(1))\n",
    "  model.compile(loss=\"mse\", optimizer=\"adam\")\n",
    "\n",
    "  model.fit(train_x , train_y, epochs=100, batch_size=64, validation_split=.2)\n",
    "  return model\n",
    "\n",
    "import mlflow\n",
    "\n",
    "\n",
    "\n",
    "with mlflow.start_run():\n",
    "  # Automatically capture the model's parameters, metrics, artifacts,\n",
    "  # and source code with the `autolog()` function\n",
    "    mlflow.tensorflow.autolog()\n",
    "\n",
    "    train_keras_model(train_x , train_y)\n",
    "    run_id = mlflow.active_run().info.run_id"
   ]
  },
  {
   "cell_type": "code",
   "execution_count": 84,
   "metadata": {},
   "outputs": [
    {
     "data": {
      "text/plain": [
       "'c05b251159b541e6ab859976d3b0cdb6'"
      ]
     },
     "execution_count": 84,
     "metadata": {},
     "output_type": "execute_result"
    }
   ],
   "source": [
    "run_id"
   ]
  },
  {
   "cell_type": "markdown",
   "metadata": {
    "colab_type": "text",
    "id": "OyxBSWKYWzH2"
   },
   "source": [
    "### 3. Rollback the version from the test environment and mark the model\n",
    "\n",
    "If the testing of the model is unsuccessful, it is necessary to roll back the version of the model back to the stable one and mark the model that did not pass the test in order to prevent its possible calculation in the future.\n",
    "\n",
    "#### Rollback version to production in test environment\n",
    "\n",
    "A workable version is currently in production. Let's put the same version in a test environment, since we need a workable version for the subsequent selection of candidates for commissioning.\n",
    "\n",
    "Laying out a stable version from the production environment (`Production`) to the test one (` Staging`):"
   ]
  },
  {
   "cell_type": "code",
   "execution_count": 6,
   "metadata": {
    "colab": {},
    "colab_type": "code",
    "id": "qdZdCpc6XDYq",
    "outputId": "af3d372e-a096-413d-a654-ea894e462b31"
   },
   "outputs": [
    {
     "name": "stderr",
     "output_type": "stream",
     "text": [
      "2022/05/05 21:27:53 INFO mlflow.tracking._model_registry.client: Waiting up to 300 seconds for model version to finish creation.                     Model name: sk-learn-model-ci, version 3\n"
     ]
    },
    {
     "data": {
      "text/plain": [
       "<ModelVersion: creation_timestamp=1651786073652, current_stage='Staging', description='', last_updated_timestamp=1651786073662, name='sk-learn-model-ci', run_id='74f035d8947a486a9e5e933222c77ca1', run_link='', source='./mlruns/1/74f035d8947a486a9e5e933222c77ca1/artifacts/model', status='READY', status_message='', tags={}, user_id='', version='3'>"
      ]
     },
     "execution_count": 6,
     "metadata": {},
     "output_type": "execute_result"
    }
   ],
   "source": [
    "# Creating a new version using the one that is now in the test env\n",
    "result = client.create_model_version(\n",
    "    name=current_prod.name,\n",
    "    source=current_prod.source,\n",
    "    run_id=current_prod.run_id\n",
    ")\n",
    "# Deploy the new version to test\n",
    "client.transition_model_version_stage(\n",
    "    name=current_prod.name,\n",
    "    version=result.version,\n",
    "    stage=\"Staging\"\n",
    ")"
   ]
  },
  {
   "cell_type": "markdown",
   "metadata": {
    "colab_type": "text",
    "id": "c33VGeDrXGWy"
   },
   "source": [
    "This operation also brings the test environment to a production state, which allows testing to be performed close to the production environment."
   ]
  },
  {
   "cell_type": "markdown",
   "metadata": {
    "colab_type": "text",
    "id": "YDPulbzmXJTk"
   },
   "source": [
    "## Rejected a version\n",
    "\n",
    "In this case, the error was during the registration of the model - the path to the model file was specified incorrectly.\n",
    "\n",
    "The path can be updated to the correct one:"
   ]
  },
  {
   "cell_type": "code",
   "execution_count": 7,
   "metadata": {
    "colab": {},
    "colab_type": "code",
    "id": "J5M9X62JXLqN",
    "outputId": "d118c1c9-74a8-4f79-d1c6-67c85d2b93db"
   },
   "outputs": [
    {
     "name": "stderr",
     "output_type": "stream",
     "text": [
      "2022/05/05 21:27:57 INFO mlflow.tracking._model_registry.client: Waiting up to 300 seconds for model version to finish creation.                     Model name: sk-learn-model-ci, version 4\n"
     ]
    },
    {
     "data": {
      "text/plain": [
       "<ModelVersion: creation_timestamp=1651786077888, current_stage='Staging', description='', last_updated_timestamp=1651786077898, name='sk-learn-model-ci', run_id='74f035d8947a486a9e5e933222c77ca1', run_link='', source='./mlruns/1/cbc98fe93da64a158cefa505f63f367a/artifacts/model', status='READY', status_message='', tags={}, user_id='', version='4'>"
      ]
     },
     "execution_count": 7,
     "metadata": {},
     "output_type": "execute_result"
    }
   ],
   "source": [
    "new_staging = client.create_model_version(\n",
    "    name=current_prod.name,\n",
    "    source=current_staging.source.replace('mdel', 'model'), # the bug\n",
    "    run_id=current_prod.run_id\n",
    ")\n",
    "client.transition_model_version_stage(\n",
    "    name=current_prod.name,\n",
    "    version=new_staging.version,\n",
    "    stage=\"Staging\"\n",
    ")"
   ]
  },
  {
   "cell_type": "markdown",
   "metadata": {
    "colab_type": "text",
    "id": "58aC0wOkJUFJ"
   },
   "source": [
    "Let's check that the model is now running on the test server correctly:"
   ]
  },
  {
   "cell_type": "code",
   "execution_count": 71,
   "metadata": {
    "colab": {},
    "colab_type": "code",
    "id": "Ptb1luGPJUFO",
    "outputId": "5aa81dae-f3d9-4fe0-ae8e-febdcc7dbfbc"
   },
   "outputs": [
    {
     "data": {
      "text/plain": [
       "0"
      ]
     },
     "execution_count": 71,
     "metadata": {},
     "output_type": "execute_result"
    }
   ],
   "source": [
    "os.system('MLFLOW_TRACKING_URI=http://0.0.0.0:5000 mlflow models serve -m \"models:/sk-learn-model-ci/Staging\" -p 5005 --no-conda &')"
   ]
  },
  {
   "cell_type": "code",
   "execution_count": 73,
   "metadata": {
    "colab": {},
    "colab_type": "code",
    "id": "6JDXX_7jJUFS",
    "outputId": "a5bb9cb8-5a40-4662-c989-6885e96f2040"
   },
   "outputs": [
    {
     "name": "stdout",
     "output_type": "stream",
     "text": [
      "Predictions: <!DOCTYPE HTML PUBLIC \"-//W3C//DTD HTML 3.2 Final//EN\">\n",
      "<title>405 Method Not Allowed</title>\n",
      "<h1>Method Not Allowed</h1>\n",
      "<p>The method is not allowed for the requested URL.</p>\n",
      "\n",
      "     variety\n",
      "38       1.0\n",
      "66       0.0\n",
      "115      0.0\n",
      "117      0.0\n",
      "89       0.0\n",
      "136      0.0\n",
      "68       0.0\n",
      "94       0.0\n",
      "84       0.0\n",
      "28       1.0\n"
     ]
    }
   ],
   "source": [
    "import requests\n",
    "\n",
    "url = f'http://127.0.0.1:5000'\n",
    "\n",
    "http_data = test_later_x[:10].to_json(orient='split')\n",
    "response = requests.post(url=url, headers={'Content-Type': 'application/json'}, data=http_data)\n",
    "\n",
    "print(f'Predictions: {response.text}')\n",
    "print(test_later_y)"
   ]
  },
  {
   "cell_type": "code",
   "execution_count": null,
   "metadata": {},
   "outputs": [],
   "source": []
  }
 ],
 "metadata": {
  "colab": {
   "collapsed_sections": [],
   "name": "model_ci.ipynb",
   "provenance": []
  },
  "kernelspec": {
   "display_name": "Python 3",
   "language": "python",
   "name": "python3"
  },
  "language_info": {
   "codemirror_mode": {
    "name": "ipython",
    "version": 3
   },
   "file_extension": ".py",
   "mimetype": "text/x-python",
   "name": "python",
   "nbconvert_exporter": "python",
   "pygments_lexer": "ipython3",
   "version": "3.8.8"
  },
  "toc": {
   "base_numbering": 1,
   "nav_menu": {},
   "number_sections": true,
   "sideBar": true,
   "skip_h1_title": false,
   "title_cell": "Table of Contents",
   "title_sidebar": "Contents",
   "toc_cell": false,
   "toc_position": {},
   "toc_section_display": true,
   "toc_window_display": false
  }
 },
 "nbformat": 4,
 "nbformat_minor": 1
}
